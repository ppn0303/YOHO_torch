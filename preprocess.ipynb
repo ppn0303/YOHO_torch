{
 "cells": [
  {
   "cell_type": "code",
   "execution_count": 1,
   "id": "9e61566a-2dc7-4286-bced-5cea974f9bde",
   "metadata": {
    "tags": []
   },
   "outputs": [
    {
     "name": "stderr",
     "output_type": "stream",
     "text": [
      "/usr/local/lib/python3.8/dist-packages/tqdm/auto.py:22: TqdmWarning: IProgress not found. Please update jupyter and ipywidgets. See https://ipywidgets.readthedocs.io/en/stable/user_install.html\n",
      "  from .autonotebook import tqdm as notebook_tqdm\n"
     ]
    }
   ],
   "source": [
    "import os, time, random, math, shutil, random\n",
    "import csv\n",
    "import glob\n",
    "import numpy as np\n",
    "import pandas as pd\n",
    "import matplotlib.pyplot as plt\n",
    "\n",
    "from IPython.display import Audio\n",
    "\n",
    "from sklearn.metrics import confusion_matrix\n",
    "from sklearn.model_selection import train_test_split\n",
    "\n",
    "import torch\n",
    "import torch.nn as nn\n",
    "import torchaudio\n",
    "from torch.utils.data import Dataset, DataLoader, random_split\n",
    "import torchaudio.functional as F\n",
    "import torchaudio.transforms as T\n",
    "\n",
    "import librosa\n",
    "\n",
    "os.environ[\"CUDA_DEVICE_ORDER\"]=\"PCI_BUS_ID\"  # Arrange GPU devices starting from 0\n",
    "os.environ[\"CUDA_VISIBLE_DEVICES\"]= \"0\"  # Set the GPU 2 to use"
   ]
  },
  {
   "cell_type": "markdown",
   "id": "d72b94aa-4eed-4cbc-9210-fe7c6785b4ff",
   "metadata": {
    "tags": []
   },
   "source": [
    "# data"
   ]
  },
  {
   "cell_type": "markdown",
   "id": "d0dd8166-eeaf-4f6f-b432-09dbd0ea6970",
   "metadata": {
    "jp-MarkdownHeadingCollapsed": true
   },
   "source": [
    "## dataload\n",
    "- label이 있는 데이터를 불러오고, 그것들을 target으로 옮기기"
   ]
  },
  {
   "cell_type": "code",
   "execution_count": 5,
   "id": "8c19fa71-4cae-4af5-9e09-29f9cecc88d6",
   "metadata": {},
   "outputs": [],
   "source": [
    "label = pd.read_csv('data/label_list.csv')"
   ]
  },
  {
   "cell_type": "code",
   "execution_count": 37,
   "id": "e6ac4079-dc3c-4407-a88c-8b87f5890a88",
   "metadata": {},
   "outputs": [],
   "source": [
    "import shutil\n",
    "for i in range(len(names)):\n",
    "    filename = str('data/origin_wav/' + names['filename'][i] + '.wav')\n",
    "    copyname = str('data/seg_wav/' + names['filename'][i] + '.wav')\n",
    "    shutil.copy(filename, copyname)"
   ]
  },
  {
   "cell_type": "code",
   "execution_count": 39,
   "id": "d632c439-43ec-4ba1-86c5-17ed308d6630",
   "metadata": {},
   "outputs": [
    {
     "name": "stdout",
     "output_type": "stream",
     "text": [
      "48000\n",
      "48000\n",
      "48000\n",
      "48000\n",
      "48000\n",
      "48000\n",
      "48000\n",
      "48000\n",
      "44100\n",
      "44100\n",
      "44100\n",
      "44100\n",
      "48000\n",
      "48000\n",
      "48000\n",
      "48000\n",
      "48000\n",
      "48000\n",
      "48000\n",
      "48000\n",
      "48000\n",
      "48000\n",
      "48000\n",
      "48000\n",
      "48000\n",
      "48000\n",
      "48000\n",
      "48000\n",
      "48000\n",
      "48000\n",
      "48000\n",
      "48000\n",
      "48000\n",
      "48000\n",
      "48000\n",
      "48000\n",
      "48000\n",
      "48000\n",
      "48000\n",
      "48000\n",
      "48000\n",
      "48000\n",
      "48000\n",
      "48000\n",
      "48000\n",
      "48000\n",
      "48000\n",
      "48000\n",
      "48000\n",
      "48000\n",
      "48000\n",
      "48000\n",
      "48000\n",
      "48000\n",
      "48000\n",
      "48000\n",
      "48000\n",
      "48000\n",
      "48000\n",
      "48000\n",
      "48000\n",
      "48000\n",
      "48000\n",
      "48000\n",
      "48000\n",
      "48000\n",
      "48000\n",
      "48000\n",
      "48000\n",
      "48000\n",
      "48000\n",
      "48000\n",
      "48000\n",
      "48000\n"
     ]
    }
   ],
   "source": [
    "for i in range(len(names)):\n",
    "    filename = str('data/wav/' + names['filename'][i] + '.wav')\n",
    "    wav, sr = torchaudio.load(filename)\n",
    "    print(sr)"
   ]
  },
  {
   "cell_type": "markdown",
   "id": "67ef8fba-e347-4832-8229-69a0d3e7b077",
   "metadata": {},
   "source": [
    "## data summary"
   ]
  },
  {
   "cell_type": "markdown",
   "id": "692edf51-bc5a-4d59-9889-b86b092a90d4",
   "metadata": {
    "jp-MarkdownHeadingCollapsed": true,
    "tags": []
   },
   "source": [
    "### 데이터 길이 확인"
   ]
  },
  {
   "cell_type": "code",
   "execution_count": 8,
   "id": "c8f2615a-dffb-4f6d-a186-e56d735abad5",
   "metadata": {
    "tags": []
   },
   "outputs": [],
   "source": [
    "length = []\n",
    "filename = str('hello')\n",
    "for i in range(len(data)):\n",
    "    if filename == data.filename[i]:\n",
    "        pass\n",
    "    else:\n",
    "        filename = data.filename[i]\n",
    "        waveform, sample_rate = torchaudio.load(os.path.join(param.data_path,filename)+'.wav')\n",
    "        resize = torchaudio.transforms.Resample(sample_rate, param.sample_rate)(waveform)\n",
    "        length.append(len(resize[0])/22050)"
   ]
  },
  {
   "cell_type": "code",
   "execution_count": 9,
   "id": "25547730-4a23-40d5-a11e-43910efcbf85",
   "metadata": {
    "tags": []
   },
   "outputs": [
    {
     "data": {
      "text/plain": [
       "27.360680272108844"
      ]
     },
     "execution_count": 9,
     "metadata": {},
     "output_type": "execute_result"
    }
   ],
   "source": [
    "np.max(length)"
   ]
  },
  {
   "cell_type": "code",
   "execution_count": 10,
   "id": "6ce853cf-bb19-4f4b-bc39-19f1c8d351a8",
   "metadata": {
    "tags": []
   },
   "outputs": [
    {
     "data": {
      "text/plain": [
       "23.866"
      ]
     },
     "execution_count": 10,
     "metadata": {},
     "output_type": "execute_result"
    }
   ],
   "source": [
    "data.end.max()"
   ]
  },
  {
   "cell_type": "markdown",
   "id": "abe8a2d8-329a-4c6f-84d1-2495a358e717",
   "metadata": {},
   "source": [
    "data의 최대 길이는 27.36초이나 wheezing이 존재하는 최대의 길이는 23.86이므로 25초까지만 패딩하자."
   ]
  },
  {
   "cell_type": "markdown",
   "id": "b95c701b-7f1d-4dc1-867e-da1ecfb56bad",
   "metadata": {
    "jp-MarkdownHeadingCollapsed": true,
    "tags": []
   },
   "source": [
    "### 스테레오 여부 확인"
   ]
  },
  {
   "cell_type": "code",
   "execution_count": 11,
   "id": "e55c4b8a-0261-4958-b1cd-e8e018ef6ded",
   "metadata": {
    "tags": []
   },
   "outputs": [
    {
     "name": "stdout",
     "output_type": "stream",
     "text": [
      "0001-1s channel : 1\n",
      "0001-3s channel : 1\n",
      "0001-4s channel : 1\n",
      "0020-1s channel : 1\n",
      "0020-3s channel : 1\n",
      "0020-4s channel : 1\n",
      "0025-3s channel : 1\n",
      "0025-4s channel : 1\n",
      "0107-1s channel : 1\n",
      "0107-2s channel : 1\n",
      "0107-3s channel : 1\n",
      "0107-4s channel : 1\n",
      "0261-2s channel : 1\n",
      "0261-3s channel : 1\n",
      "0411-2s channel : 1\n",
      "0411-3s channel : 1\n",
      "0515-1s channel : 1\n",
      "0526-3s channel : 1\n",
      "0526-4s channel : 1\n",
      "0533-1s channel : 1\n",
      "0533-2s channel : 1\n",
      "0534-4s channel : 1\n",
      "0535-3s channel : 1\n",
      "0538-1s channel : 1\n",
      "0538-2s channel : 1\n",
      "0538-3s channel : 1\n",
      "0538-4s channel : 1\n",
      "0539-3s channel : 1\n",
      "0539-4s channel : 1\n",
      "0549-2s channel : 1\n",
      "0550-3s channel : 1\n",
      "0550-4s channel : 1\n",
      "0559-1s channel : 1\n",
      "0559-2s channel : 1\n",
      "0559-3s channel : 1\n",
      "0559-4s channel : 1\n",
      "0568-1s channel : 1\n",
      "0568-2s channel : 1\n",
      "0568-3s channel : 1\n",
      "0568-4s channel : 1\n",
      "0581-1s channel : 1\n",
      "0581-2s channel : 1\n",
      "0581-4s channel : 1\n",
      "0588-2s channel : 1\n",
      "0588-3s channel : 1\n",
      "0590-1s channel : 1\n",
      "0590-2s channel : 1\n",
      "0590-3s channel : 1\n",
      "0593-3s channel : 1\n",
      "0593-4s channel : 1\n",
      "0594-1s channel : 1\n",
      "0597-2s channel : 1\n",
      "0597-4s channel : 1\n",
      "0600-1s channel : 1\n",
      "0600-2s channel : 1\n",
      "0600-3s channel : 1\n",
      "0602-3s channel : 1\n",
      "0603-1s channel : 1\n",
      "0604-1s channel : 1\n",
      "0606-1s channel : 1\n",
      "0606-2s channel : 1\n",
      "0607-2s channel : 1\n",
      "0607-3s channel : 1\n",
      "0609-4s channel : 1\n",
      "0611-1s channel : 1\n",
      "0611-2s channel : 1\n",
      "0611-3s channel : 1\n",
      "0612-1s channel : 1\n",
      "0613-2s channel : 1\n",
      "0613-3s channel : 1\n",
      "0614-2s channel : 1\n",
      "0614-3s channel : 1\n",
      "0614-4s channel : 1\n",
      "0615-1s channel : 1\n"
     ]
    }
   ],
   "source": [
    "for i in range(len(data)):\n",
    "    if filename == data.filename[i]:\n",
    "        pass\n",
    "    else:\n",
    "        filename = data.filename[i]\n",
    "        waveform, sample_rate = torchaudio.load(os.path.join(param.data_path,filename)+'.wav')\n",
    "        print(f'{filename}s channel : {waveform.shape[0]}')"
   ]
  },
  {
   "cell_type": "code",
   "execution_count": 12,
   "id": "910589b4-863e-47bf-8e29-5f5c95baa718",
   "metadata": {
    "tags": []
   },
   "outputs": [],
   "source": [
    "from sklearn.model_selection import train_test_split, KFold"
   ]
  },
  {
   "cell_type": "code",
   "execution_count": 13,
   "id": "ef63cd61-e631-4f94-8c8c-50eddeb4d55c",
   "metadata": {
    "tags": []
   },
   "outputs": [],
   "source": [
    "train_set, test_set = train_test_split(data,test_size=0.2, random_state=param.random_state)"
   ]
  },
  {
   "cell_type": "code",
   "execution_count": 14,
   "id": "8b46271d-7ec7-4f5b-8efa-15fbfcf9b4a2",
   "metadata": {
    "tags": []
   },
   "outputs": [
    {
     "name": "stdout",
     "output_type": "stream",
     "text": [
      "train : 151, test : 38\n"
     ]
    }
   ],
   "source": [
    "print(f'train : {len(train_set)}, test : {len(test_set)}')"
   ]
  },
  {
   "cell_type": "markdown",
   "id": "7d91e6c6-752c-41b3-afbf-1e422465b9fa",
   "metadata": {},
   "source": [
    "## audio preprocess"
   ]
  },
  {
   "cell_type": "markdown",
   "id": "1c2419c1-f388-43c2-864f-114559def0cc",
   "metadata": {
    "jp-MarkdownHeadingCollapsed": true
   },
   "source": [
    "## 1채널로 만들기"
   ]
  },
  {
   "cell_type": "code",
   "execution_count": 1,
   "id": "42c658e6-a09d-4155-a6f2-3c012a96b2d6",
   "metadata": {},
   "outputs": [],
   "source": [
    "from subprocess import Popen, PIPE"
   ]
  },
  {
   "cell_type": "code",
   "execution_count": 6,
   "id": "4834df2e-77f7-42a5-8028-a0140d1df115",
   "metadata": {},
   "outputs": [],
   "source": [
    "audio_files = glob.glob('data/labeled_wheezing/*.wav')"
   ]
  },
  {
   "cell_type": "code",
   "execution_count": 8,
   "id": "67c99fc5-9ed2-495c-bc47-bb1f47c813c9",
   "metadata": {},
   "outputs": [],
   "source": [
    "audio_files = glob.glob('data/non_wheezing/*.wav')"
   ]
  },
  {
   "cell_type": "code",
   "execution_count": 9,
   "id": "c5cada2c-40b7-4210-984a-65cb32cd7c8a",
   "metadata": {},
   "outputs": [],
   "source": [
    "for sound in audio_files:\n",
    "    temp_file = sound.replace(\"non_wheezing\",\"mono_non_wheezing\")\n",
    "    command = \"sox \" + sound + \" \" + temp_file + \" channels 1\"\n",
    "    p = Popen(command, stdin=PIPE, stdout=PIPE, stderr=PIPE, shell=True)\n",
    "    output, err = p.communicate()"
   ]
  },
  {
   "cell_type": "markdown",
   "id": "8146bc23-e6df-4d64-bfb7-4b61f5c4c0b9",
   "metadata": {},
   "source": [
    "### non-wheezing label 만들기"
   ]
  },
  {
   "cell_type": "code",
   "execution_count": 30,
   "id": "ea2b896a-ebb0-45de-8d4b-8820e7e32faf",
   "metadata": {},
   "outputs": [],
   "source": [
    "non_wheezings = glob.glob('data/mono_non_wheezing/*.wav')"
   ]
  },
  {
   "cell_type": "code",
   "execution_count": 31,
   "id": "a883549e-4b0d-46cd-b1de-b6430455f274",
   "metadata": {
    "jupyter": {
     "source_hidden": true
    }
   },
   "outputs": [],
   "source": [
    "for _, path in enumerate(non_wheezings):\n",
    "    with open(path.replace('.wav','.ann'), 'w') as fp:\n",
    "        fp.write('0,0,non-wheezing')\n",
    "    fp.close()"
   ]
  },
  {
   "cell_type": "markdown",
   "id": "0a6a67c2-d2f1-49cd-8c0d-471d9d4451f9",
   "metadata": {
    "jp-MarkdownHeadingCollapsed": true
   },
   "source": [
    "## label 분할"
   ]
  },
  {
   "cell_type": "code",
   "execution_count": 12,
   "id": "af88611b-dc57-4cb8-9abf-0637b4a1859d",
   "metadata": {},
   "outputs": [],
   "source": [
    "label = pd.read_csv('data/label_list.csv')\n",
    "data = np.array(label)"
   ]
  },
  {
   "cell_type": "code",
   "execution_count": 27,
   "id": "963fe335-bf95-4a16-b076-7cddb301ec00",
   "metadata": {},
   "outputs": [],
   "source": [
    "def label_seperate(audio_path, data):\n",
    "    now = data[0][0]\n",
    "    lists = []\n",
    "    count = 0\n",
    "    for i in range(len(data)):\n",
    "        if now == data[i][0]:\n",
    "            lists.append(data[i])\n",
    "        elif count != 0 : \n",
    "            label_name=f'{audio_path}/{data[i-1][0]}.ann'\n",
    "            with open(label_name, 'w') as fp:\n",
    "                fp.write('\\n'.join('{},{},{}'.format(x[2], x[3], x[1]) for x in lists))\n",
    "            lists = []\n",
    "            now=data[i][0]\n",
    "            lists.append(data[i])\n",
    "        else :\n",
    "            now=data[i][0]\n",
    "            lists.append(data[i])\n",
    "        count += 1\n",
    "    label_name=f'{audio_path}/{data[i][0]}.ann'\n",
    "    with open(label_name, 'w') as fp:\n",
    "        fp.write('\\n'.join('{},{},{}'.format(x[2], x[3], x[1]) for x in lists))"
   ]
  },
  {
   "cell_type": "code",
   "execution_count": 29,
   "id": "6c2afc52-3904-457c-9bab-3d24f0c924e6",
   "metadata": {},
   "outputs": [],
   "source": [
    "label_seperate('data/mono_wheezing',data=data)"
   ]
  },
  {
   "cell_type": "markdown",
   "id": "50a5286b-933e-46d6-b669-392b67f62580",
   "metadata": {},
   "source": [
    "## 레이블 만들기"
   ]
  },
  {
   "cell_type": "code",
   "execution_count": 10,
   "id": "8b1d6863-9884-4fb4-9b33-15bd9261d10f",
   "metadata": {},
   "outputs": [],
   "source": [
    "wavs = glob.glob('data/mono_non_wheezing_wav/*.wav')"
   ]
  },
  {
   "cell_type": "code",
   "execution_count": 13,
   "id": "9457c95c-87ba-442c-86f6-c026f7218d89",
   "metadata": {},
   "outputs": [],
   "source": [
    "train_wav = wavs[:int(len(wavs)*0.9)]\n",
    "val_wav = wavs[int(len(wavs)*0.9):]"
   ]
  },
  {
   "cell_type": "code",
   "execution_count": 347,
   "id": "1ee7bdd7-2b62-499e-961c-4cff1d9fcc78",
   "metadata": {},
   "outputs": [
    {
     "data": {
      "text/plain": [
       "[['0.444', '0.656', 'wheezing'],\n",
       " ['0.832', '1.12', 'wheezing'],\n",
       " ['4.82', '5.781', 'wheezing'],\n",
       " ['6.868', '7.529', 'wheezing'],\n",
       " ['9.038', '9.306', 'wheezing']]"
      ]
     },
     "execution_count": 347,
     "metadata": {},
     "output_type": "execute_result"
    }
   ],
   "source": [
    "read_annotation(wavs[0].replace('.wav','.ann'))"
   ]
  },
  {
   "cell_type": "code",
   "execution_count": 2,
   "id": "916193da-b26b-458a-919a-6d701efc4ce5",
   "metadata": {},
   "outputs": [],
   "source": [
    "def construct_labels(annotation_path, win_start, win_end, win_len):\n",
    "    events = read_annotation(annotation_path)\n",
    "    #원래 3번째 값은 e[2]로 특정 클래스인데, 여긴 binary니깐 1로 변경\n",
    "    ann = [[float(e[0]), float(e[1]), 1] for e in events]\n",
    "    \n",
    "    curr_ann = []\n",
    "    \n",
    "    for a in ann:\n",
    "        if a[1] > win_start and a[0] <= win_end: \n",
    "        # if a[0] >= win_start and a[0] < win_end:\n",
    "            curr_start = max(a[0] - win_start, 0.0)\n",
    "            curr_end = min(a[1] - win_start, win_len)\n",
    "            curr_ann.append([curr_start, curr_end, a[2]])    \n",
    "    \n",
    "    class_set = set([c[2] for c in curr_ann])\n",
    "    class_wise_events = {}\n",
    "    \n",
    "    for c in list(class_set):\n",
    "        class_wise_events[c] = []\n",
    "        \n",
    "    \n",
    "    for c in curr_ann:\n",
    "        class_wise_events[c[2]].append(c)\n",
    "        \n",
    "    max_event_silence = 0.0\n",
    "    all_events = []\n",
    "    \n",
    "    for k in list(class_wise_events.keys()):\n",
    "        curr_events = class_wise_events[k]\n",
    "        count = 0\n",
    "    \n",
    "        while count < len(curr_events) - 1:\n",
    "            if (curr_events[count][1] >= curr_events[count + 1][0]) or (curr_events[count + 1][0] - curr_events[count][1] <= max_event_silence):\n",
    "                curr_events[count][1] = max(curr_events[count + 1][1], curr_events[count][1])\n",
    "                del curr_events[count + 1]\n",
    "            else:\n",
    "                count += 1\n",
    "        \n",
    "        all_events += curr_events\n",
    "    \n",
    "    for i in range(len(all_events)):\n",
    "        all_events[i][0] = round(all_events[i][0], 3)/0.3\n",
    "        all_events[i][1] = round(all_events[i][1], 3)/0.3\n",
    "    \n",
    "    all_events.sort(key=lambda x: x[0])\n",
    "    if all_events==[]:\n",
    "        all_events=[[0, 0, 0]]\n",
    "  \n",
    "    return all_events"
   ]
  },
  {
   "cell_type": "code",
   "execution_count": 3,
   "id": "aaa77ff0-9227-4d53-a726-55ba996de55d",
   "metadata": {},
   "outputs": [],
   "source": [
    "def read_annotation(filename):\n",
    "    events = []\n",
    "    with open(filename, 'r') as csvfile:\n",
    "        spamreader = csv.reader(csvfile, delimiter=',', quotechar='|')\n",
    "        for row in spamreader:\n",
    "            events.append(row)\n",
    "    return events"
   ]
  },
  {
   "cell_type": "markdown",
   "id": "3c79c3d2-1bab-46ab-8e60-b1241817fe80",
   "metadata": {
    "jp-MarkdownHeadingCollapsed": true
   },
   "source": [
    "## 멜스펙트로그램 그려보기"
   ]
  },
  {
   "cell_type": "code",
   "execution_count": 68,
   "id": "7bf5dec6-3d64-4113-86dc-4f50941fe72b",
   "metadata": {},
   "outputs": [],
   "source": [
    "wav, sr = torchaudio.load('data/mono_wav/0261-2.wav')"
   ]
  },
  {
   "cell_type": "code",
   "execution_count": 69,
   "id": "1ec3f092-b7bb-436f-ac5c-d932f85159ee",
   "metadata": {},
   "outputs": [],
   "source": [
    "wav = T.Resample(sr, 44100)(wav)[0]"
   ]
  },
  {
   "cell_type": "code",
   "execution_count": 210,
   "id": "4046b29c-ade2-4de0-9366-6c7cd3a5b93e",
   "metadata": {},
   "outputs": [],
   "source": [
    "seg_wav = wav[int(44100*0.3)*2:int(44100*0.3)*3]"
   ]
  },
  {
   "cell_type": "code",
   "execution_count": 187,
   "id": "25e96614-a71d-4e30-abda-30c442e4bcae",
   "metadata": {},
   "outputs": [],
   "source": [
    "seg_wav = wav[int(44100)*0:int(44100)*3]"
   ]
  },
  {
   "cell_type": "code",
   "execution_count": 71,
   "id": "5d593960-d038-4831-b6b1-2c5edc981d8d",
   "metadata": {},
   "outputs": [
    {
     "data": {
      "text/plain": [
       "13230"
      ]
     },
     "execution_count": 71,
     "metadata": {},
     "output_type": "execute_result"
    }
   ],
   "source": [
    "len(seg_wav)"
   ]
  },
  {
   "cell_type": "code",
   "execution_count": 25,
   "id": "5110e272-179e-488b-b700-5e92e9d1c582",
   "metadata": {},
   "outputs": [],
   "source": [
    "import librosa"
   ]
  },
  {
   "cell_type": "code",
   "execution_count": 141,
   "id": "2836f605-673c-477f-b9aa-4de773309e5b",
   "metadata": {},
   "outputs": [
    {
     "data": {
      "text/plain": [
       "<function librosa.feature.spectral.melspectrogram(y=None, sr=22050, S=None, n_fft=2048, hop_length=512, win_length=None, window='hann', center=True, pad_mode='reflect', power=2.0, **kwargs)>"
      ]
     },
     "execution_count": 141,
     "metadata": {},
     "output_type": "execute_result"
    }
   ],
   "source": [
    "librosa.feature.melspectrogram"
   ]
  },
  {
   "cell_type": "code",
   "execution_count": 143,
   "id": "a9cbc68b-73e3-4ed7-bf01-d93710920450",
   "metadata": {},
   "outputs": [
    {
     "data": {
      "text/plain": [
       "tensor([0.0069, 0.0074, 0.0073,  ..., 0.0122, 0.0124, 0.0126])"
      ]
     },
     "execution_count": 143,
     "metadata": {},
     "output_type": "execute_result"
    }
   ],
   "source": [
    "seg_wav"
   ]
  },
  {
   "cell_type": "code",
   "execution_count": 118,
   "id": "d97d1137-ac37-47f5-b0db-352d0ccbbb85",
   "metadata": {
    "scrolled": true
   },
   "outputs": [
    {
     "data": {
      "text/plain": [
       "\u001b[0;31mSignature:\u001b[0m\n",
       "\u001b[0mlibrosa\u001b[0m\u001b[0;34m.\u001b[0m\u001b[0mfeature\u001b[0m\u001b[0;34m.\u001b[0m\u001b[0mmelspectrogram\u001b[0m\u001b[0;34m(\u001b[0m\u001b[0;34m\u001b[0m\n",
       "\u001b[0;34m\u001b[0m    \u001b[0my\u001b[0m\u001b[0;34m=\u001b[0m\u001b[0;32mNone\u001b[0m\u001b[0;34m,\u001b[0m\u001b[0;34m\u001b[0m\n",
       "\u001b[0;34m\u001b[0m    \u001b[0msr\u001b[0m\u001b[0;34m=\u001b[0m\u001b[0;36m22050\u001b[0m\u001b[0;34m,\u001b[0m\u001b[0;34m\u001b[0m\n",
       "\u001b[0;34m\u001b[0m    \u001b[0mS\u001b[0m\u001b[0;34m=\u001b[0m\u001b[0;32mNone\u001b[0m\u001b[0;34m,\u001b[0m\u001b[0;34m\u001b[0m\n",
       "\u001b[0;34m\u001b[0m    \u001b[0mn_fft\u001b[0m\u001b[0;34m=\u001b[0m\u001b[0;36m2048\u001b[0m\u001b[0;34m,\u001b[0m\u001b[0;34m\u001b[0m\n",
       "\u001b[0;34m\u001b[0m    \u001b[0mhop_length\u001b[0m\u001b[0;34m=\u001b[0m\u001b[0;36m512\u001b[0m\u001b[0;34m,\u001b[0m\u001b[0;34m\u001b[0m\n",
       "\u001b[0;34m\u001b[0m    \u001b[0mwin_length\u001b[0m\u001b[0;34m=\u001b[0m\u001b[0;32mNone\u001b[0m\u001b[0;34m,\u001b[0m\u001b[0;34m\u001b[0m\n",
       "\u001b[0;34m\u001b[0m    \u001b[0mwindow\u001b[0m\u001b[0;34m=\u001b[0m\u001b[0;34m'hann'\u001b[0m\u001b[0;34m,\u001b[0m\u001b[0;34m\u001b[0m\n",
       "\u001b[0;34m\u001b[0m    \u001b[0mcenter\u001b[0m\u001b[0;34m=\u001b[0m\u001b[0;32mTrue\u001b[0m\u001b[0;34m,\u001b[0m\u001b[0;34m\u001b[0m\n",
       "\u001b[0;34m\u001b[0m    \u001b[0mpad_mode\u001b[0m\u001b[0;34m=\u001b[0m\u001b[0;34m'reflect'\u001b[0m\u001b[0;34m,\u001b[0m\u001b[0;34m\u001b[0m\n",
       "\u001b[0;34m\u001b[0m    \u001b[0mpower\u001b[0m\u001b[0;34m=\u001b[0m\u001b[0;36m2.0\u001b[0m\u001b[0;34m,\u001b[0m\u001b[0;34m\u001b[0m\n",
       "\u001b[0;34m\u001b[0m    \u001b[0;34m**\u001b[0m\u001b[0mkwargs\u001b[0m\u001b[0;34m,\u001b[0m\u001b[0;34m\u001b[0m\n",
       "\u001b[0;34m\u001b[0m\u001b[0;34m)\u001b[0m\u001b[0;34m\u001b[0m\u001b[0;34m\u001b[0m\u001b[0m\n",
       "\u001b[0;31mDocstring:\u001b[0m\n",
       "Compute a mel-scaled spectrogram.\n",
       "\n",
       "If a spectrogram input ``S`` is provided, then it is mapped directly onto\n",
       "the mel basis by ``mel_f.dot(S)``.\n",
       "\n",
       "If a time-series input ``y, sr`` is provided, then its magnitude spectrogram\n",
       "``S`` is first computed, and then mapped onto the mel scale by\n",
       "``mel_f.dot(S**power)``.\n",
       "\n",
       "By default, ``power=2`` operates on a power spectrum.\n",
       "\n",
       "Parameters\n",
       "----------\n",
       "y : np.ndarray [shape=(n,)] or None\n",
       "    audio time-series\n",
       "\n",
       "sr : number > 0 [scalar]\n",
       "    sampling rate of ``y``\n",
       "\n",
       "S : np.ndarray [shape=(d, t)]\n",
       "    spectrogram\n",
       "\n",
       "n_fft : int > 0 [scalar]\n",
       "    length of the FFT window\n",
       "\n",
       "hop_length : int > 0 [scalar]\n",
       "    number of samples between successive frames.\n",
       "    See `librosa.stft`\n",
       "\n",
       "win_length : int <= n_fft [scalar]\n",
       "    Each frame of audio is windowed by `window()`.\n",
       "    The window will be of length `win_length` and then padded\n",
       "    with zeros to match ``n_fft``.\n",
       "\n",
       "    If unspecified, defaults to ``win_length = n_fft``.\n",
       "\n",
       "window : string, tuple, number, function, or np.ndarray [shape=(n_fft,)]\n",
       "    - a window specification (string, tuple, or number);\n",
       "      see `scipy.signal.get_window`\n",
       "    - a window function, such as `scipy.signal.windows.hann`\n",
       "    - a vector or array of length ``n_fft``\n",
       "\n",
       "    .. see also:: `librosa.filters.get_window`\n",
       "\n",
       "center : boolean\n",
       "    - If `True`, the signal ``y`` is padded so that frame\n",
       "      ``t`` is centered at ``y[t * hop_length]``.\n",
       "    - If `False`, then frame ``t`` begins at ``y[t * hop_length]``\n",
       "\n",
       "pad_mode : string\n",
       "    If ``center=True``, the padding mode to use at the edges of the signal.\n",
       "\n",
       "    By default, STFT uses reflection padding.\n",
       "\n",
       "power : float > 0 [scalar]\n",
       "    Exponent for the magnitude melspectrogram.\n",
       "    e.g., 1 for energy, 2 for power, etc.\n",
       "\n",
       "kwargs : additional keyword arguments\n",
       "    Mel filter bank parameters.\n",
       "\n",
       "    See `librosa.filters.mel` for details.\n",
       "\n",
       "Returns\n",
       "-------\n",
       "S : np.ndarray [shape=(n_mels, t)]\n",
       "    Mel spectrogram\n",
       "\n",
       "See Also\n",
       "--------\n",
       "librosa.filters.mel\n",
       "    Mel filter bank construction\n",
       "\n",
       "librosa.stft\n",
       "    Short-time Fourier Transform\n",
       "\n",
       "\n",
       "Examples\n",
       "--------\n",
       ">>> y, sr = librosa.load(librosa.ex('trumpet'))\n",
       ">>> librosa.feature.melspectrogram(y=y, sr=sr)\n",
       "array([[3.837e-06, 1.451e-06, ..., 8.352e-14, 1.296e-11],\n",
       "       [2.213e-05, 7.866e-06, ..., 8.532e-14, 1.329e-11],\n",
       "       ...,\n",
       "       [1.115e-05, 5.192e-06, ..., 3.675e-08, 2.470e-08],\n",
       "       [6.473e-07, 4.402e-07, ..., 1.794e-08, 2.908e-08]],\n",
       "      dtype=float32)\n",
       "\n",
       "Using a pre-computed power spectrogram would give the same result:\n",
       "\n",
       ">>> D = np.abs(librosa.stft(y))**2\n",
       ">>> S = librosa.feature.melspectrogram(S=D, sr=sr)\n",
       "\n",
       "Display of mel-frequency spectrogram coefficients, with custom\n",
       "arguments for mel filterbank construction (default is fmax=sr/2):\n",
       "\n",
       ">>> # Passing through arguments to the Mel filters\n",
       ">>> S = librosa.feature.melspectrogram(y=y, sr=sr, n_mels=128,\n",
       "...                                     fmax=8000)\n",
       "\n",
       ">>> import matplotlib.pyplot as plt\n",
       ">>> fig, ax = plt.subplots()\n",
       ">>> S_dB = librosa.power_to_db(S, ref=np.max)\n",
       ">>> img = librosa.display.specshow(S_dB, x_axis='time',\n",
       "...                          y_axis='mel', sr=sr,\n",
       "...                          fmax=8000, ax=ax)\n",
       ">>> fig.colorbar(img, ax=ax, format='%+2.0f dB')\n",
       ">>> ax.set(title='Mel-frequency spectrogram')\n",
       "\u001b[0;31mFile:\u001b[0m      /usr/local/lib/python3.8/dist-packages/librosa/feature/spectral.py\n",
       "\u001b[0;31mType:\u001b[0m      function"
      ]
     },
     "metadata": {},
     "output_type": "display_data"
    }
   ],
   "source": [
    "librosa.feature.melspectrogram?"
   ]
  },
  {
   "cell_type": "code",
   "execution_count": 119,
   "id": "a7552950-3e7c-422f-a2d7-e2895f045e1b",
   "metadata": {
    "scrolled": true
   },
   "outputs": [
    {
     "data": {
      "text/plain": [
       "\u001b[0;31mInit signature:\u001b[0m\n",
       "\u001b[0mT\u001b[0m\u001b[0;34m.\u001b[0m\u001b[0mMelSpectrogram\u001b[0m\u001b[0;34m(\u001b[0m\u001b[0;34m\u001b[0m\n",
       "\u001b[0;34m\u001b[0m    \u001b[0msample_rate\u001b[0m\u001b[0;34m:\u001b[0m \u001b[0mint\u001b[0m \u001b[0;34m=\u001b[0m \u001b[0;36m16000\u001b[0m\u001b[0;34m,\u001b[0m\u001b[0;34m\u001b[0m\n",
       "\u001b[0;34m\u001b[0m    \u001b[0mn_fft\u001b[0m\u001b[0;34m:\u001b[0m \u001b[0mint\u001b[0m \u001b[0;34m=\u001b[0m \u001b[0;36m400\u001b[0m\u001b[0;34m,\u001b[0m\u001b[0;34m\u001b[0m\n",
       "\u001b[0;34m\u001b[0m    \u001b[0mwin_length\u001b[0m\u001b[0;34m:\u001b[0m \u001b[0mUnion\u001b[0m\u001b[0;34m[\u001b[0m\u001b[0mint\u001b[0m\u001b[0;34m,\u001b[0m \u001b[0mNoneType\u001b[0m\u001b[0;34m]\u001b[0m \u001b[0;34m=\u001b[0m \u001b[0;32mNone\u001b[0m\u001b[0;34m,\u001b[0m\u001b[0;34m\u001b[0m\n",
       "\u001b[0;34m\u001b[0m    \u001b[0mhop_length\u001b[0m\u001b[0;34m:\u001b[0m \u001b[0mUnion\u001b[0m\u001b[0;34m[\u001b[0m\u001b[0mint\u001b[0m\u001b[0;34m,\u001b[0m \u001b[0mNoneType\u001b[0m\u001b[0;34m]\u001b[0m \u001b[0;34m=\u001b[0m \u001b[0;32mNone\u001b[0m\u001b[0;34m,\u001b[0m\u001b[0;34m\u001b[0m\n",
       "\u001b[0;34m\u001b[0m    \u001b[0mf_min\u001b[0m\u001b[0;34m:\u001b[0m \u001b[0mfloat\u001b[0m \u001b[0;34m=\u001b[0m \u001b[0;36m0.0\u001b[0m\u001b[0;34m,\u001b[0m\u001b[0;34m\u001b[0m\n",
       "\u001b[0;34m\u001b[0m    \u001b[0mf_max\u001b[0m\u001b[0;34m:\u001b[0m \u001b[0mUnion\u001b[0m\u001b[0;34m[\u001b[0m\u001b[0mfloat\u001b[0m\u001b[0;34m,\u001b[0m \u001b[0mNoneType\u001b[0m\u001b[0;34m]\u001b[0m \u001b[0;34m=\u001b[0m \u001b[0;32mNone\u001b[0m\u001b[0;34m,\u001b[0m\u001b[0;34m\u001b[0m\n",
       "\u001b[0;34m\u001b[0m    \u001b[0mpad\u001b[0m\u001b[0;34m:\u001b[0m \u001b[0mint\u001b[0m \u001b[0;34m=\u001b[0m \u001b[0;36m0\u001b[0m\u001b[0;34m,\u001b[0m\u001b[0;34m\u001b[0m\n",
       "\u001b[0;34m\u001b[0m    \u001b[0mn_mels\u001b[0m\u001b[0;34m:\u001b[0m \u001b[0mint\u001b[0m \u001b[0;34m=\u001b[0m \u001b[0;36m128\u001b[0m\u001b[0;34m,\u001b[0m\u001b[0;34m\u001b[0m\n",
       "\u001b[0;34m\u001b[0m    \u001b[0mwindow_fn\u001b[0m\u001b[0;34m:\u001b[0m \u001b[0mCallable\u001b[0m\u001b[0;34m[\u001b[0m\u001b[0;34m...\u001b[0m\u001b[0;34m,\u001b[0m \u001b[0mtorch\u001b[0m\u001b[0;34m.\u001b[0m\u001b[0mTensor\u001b[0m\u001b[0;34m]\u001b[0m \u001b[0;34m=\u001b[0m \u001b[0;34m<\u001b[0m\u001b[0mbuilt\u001b[0m\u001b[0;34m-\u001b[0m\u001b[0;32min\u001b[0m \u001b[0mmethod\u001b[0m \u001b[0mhann_window\u001b[0m \u001b[0mof\u001b[0m \u001b[0mtype\u001b[0m \u001b[0mobject\u001b[0m \u001b[0mat\u001b[0m \u001b[0;36m0x7f7e55fd1ce0\u001b[0m\u001b[0;34m>\u001b[0m\u001b[0;34m,\u001b[0m\u001b[0;34m\u001b[0m\n",
       "\u001b[0;34m\u001b[0m    \u001b[0mpower\u001b[0m\u001b[0;34m:\u001b[0m \u001b[0mUnion\u001b[0m\u001b[0;34m[\u001b[0m\u001b[0mfloat\u001b[0m\u001b[0;34m,\u001b[0m \u001b[0mNoneType\u001b[0m\u001b[0;34m]\u001b[0m \u001b[0;34m=\u001b[0m \u001b[0;36m2.0\u001b[0m\u001b[0;34m,\u001b[0m\u001b[0;34m\u001b[0m\n",
       "\u001b[0;34m\u001b[0m    \u001b[0mnormalized\u001b[0m\u001b[0;34m:\u001b[0m \u001b[0mbool\u001b[0m \u001b[0;34m=\u001b[0m \u001b[0;32mFalse\u001b[0m\u001b[0;34m,\u001b[0m\u001b[0;34m\u001b[0m\n",
       "\u001b[0;34m\u001b[0m    \u001b[0mwkwargs\u001b[0m\u001b[0;34m:\u001b[0m \u001b[0mUnion\u001b[0m\u001b[0;34m[\u001b[0m\u001b[0mdict\u001b[0m\u001b[0;34m,\u001b[0m \u001b[0mNoneType\u001b[0m\u001b[0;34m]\u001b[0m \u001b[0;34m=\u001b[0m \u001b[0;32mNone\u001b[0m\u001b[0;34m,\u001b[0m\u001b[0;34m\u001b[0m\n",
       "\u001b[0;34m\u001b[0m    \u001b[0mcenter\u001b[0m\u001b[0;34m:\u001b[0m \u001b[0mbool\u001b[0m \u001b[0;34m=\u001b[0m \u001b[0;32mTrue\u001b[0m\u001b[0;34m,\u001b[0m\u001b[0;34m\u001b[0m\n",
       "\u001b[0;34m\u001b[0m    \u001b[0mpad_mode\u001b[0m\u001b[0;34m:\u001b[0m \u001b[0mstr\u001b[0m \u001b[0;34m=\u001b[0m \u001b[0;34m'reflect'\u001b[0m\u001b[0;34m,\u001b[0m\u001b[0;34m\u001b[0m\n",
       "\u001b[0;34m\u001b[0m    \u001b[0monesided\u001b[0m\u001b[0;34m:\u001b[0m \u001b[0mbool\u001b[0m \u001b[0;34m=\u001b[0m \u001b[0;32mTrue\u001b[0m\u001b[0;34m,\u001b[0m\u001b[0;34m\u001b[0m\n",
       "\u001b[0;34m\u001b[0m    \u001b[0mnorm\u001b[0m\u001b[0;34m:\u001b[0m \u001b[0mUnion\u001b[0m\u001b[0;34m[\u001b[0m\u001b[0mstr\u001b[0m\u001b[0;34m,\u001b[0m \u001b[0mNoneType\u001b[0m\u001b[0;34m]\u001b[0m \u001b[0;34m=\u001b[0m \u001b[0;32mNone\u001b[0m\u001b[0;34m,\u001b[0m\u001b[0;34m\u001b[0m\n",
       "\u001b[0;34m\u001b[0m\u001b[0;34m)\u001b[0m \u001b[0;34m->\u001b[0m \u001b[0;32mNone\u001b[0m\u001b[0;34m\u001b[0m\u001b[0;34m\u001b[0m\u001b[0m\n",
       "\u001b[0;31mDocstring:\u001b[0m     \n",
       "Create MelSpectrogram for a raw audio signal. This is a composition of Spectrogram\n",
       "and MelScale.\n",
       "\n",
       "Sources\n",
       "    * https://gist.github.com/kastnerkyle/179d6e9a88202ab0a2fe\n",
       "    * https://timsainb.github.io/spectrograms-mfccs-and-inversion-in-python.html\n",
       "    * http://haythamfayek.com/2016/04/21/speech-processing-for-machine-learning.html\n",
       "\n",
       "Args:\n",
       "    sample_rate (int, optional): Sample rate of audio signal. (Default: ``16000``)\n",
       "    win_length (int or None, optional): Window size. (Default: ``n_fft``)\n",
       "    hop_length (int or None, optional): Length of hop between STFT windows. (Default: ``win_length // 2``)\n",
       "    n_fft (int, optional): Size of FFT, creates ``n_fft // 2 + 1`` bins. (Default: ``400``)\n",
       "    f_min (float, optional): Minimum frequency. (Default: ``0.``)\n",
       "    f_max (float or None, optional): Maximum frequency. (Default: ``None``)\n",
       "    pad (int, optional): Two sided padding of signal. (Default: ``0``)\n",
       "    n_mels (int, optional): Number of mel filterbanks. (Default: ``128``)\n",
       "    window_fn (Callable[..., Tensor], optional): A function to create a window tensor\n",
       "        that is applied/multiplied to each frame/window. (Default: ``torch.hann_window``)\n",
       "    wkwargs (Dict[..., ...] or None, optional): Arguments for window function. (Default: ``None``)\n",
       "    center (bool, optional): whether to pad :attr:`waveform` on both sides so\n",
       "        that the :math:`t`-th frame is centered at time :math:`t \\times \\text{hop\\_length}`.\n",
       "        Default: ``True``\n",
       "    pad_mode (string, optional): controls the padding method used when\n",
       "        :attr:`center` is ``True``. Default: ``\"reflect\"``\n",
       "    onesided (bool, optional): controls whether to return half of results to\n",
       "        avoid redundancy. Default: ``True``\n",
       "    norm (Optional[str]): If 'slaney', divide the triangular mel weights by the width of the mel band\n",
       "    (area normalization). (Default: ``None``)\n",
       "\n",
       "Example\n",
       "    >>> waveform, sample_rate = torchaudio.load('test.wav', normalization=True)\n",
       "    >>> mel_specgram = transforms.MelSpectrogram(sample_rate)(waveform)  # (channel, n_mels, time)\n",
       "\u001b[0;31mInit docstring:\u001b[0m Initializes internal Module state, shared by both nn.Module and ScriptModule.\n",
       "\u001b[0;31mFile:\u001b[0m           /usr/local/lib/python3.8/dist-packages/torchaudio/transforms.py\n",
       "\u001b[0;31mType:\u001b[0m           type\n",
       "\u001b[0;31mSubclasses:\u001b[0m     "
      ]
     },
     "metadata": {},
     "output_type": "display_data"
    }
   ],
   "source": [
    "T.MelSpectrogram?"
   ]
  },
  {
   "cell_type": "code",
   "execution_count": null,
   "id": "3603e483-6966-4158-8f78-476fae4dffe6",
   "metadata": {},
   "outputs": [],
   "source": [
    "sr = 44100, hop_length = 441, win_length = 1764, n_fft = 2048, n_mels = 40, fmin = 0, fmax = 22050"
   ]
  },
  {
   "cell_type": "code",
   "execution_count": 233,
   "id": "c5efccd9-f3d5-4085-a57c-22c7ce35278f",
   "metadata": {},
   "outputs": [
    {
     "name": "stdout",
     "output_type": "stream",
     "text": [
      "(60, 414)\n"
     ]
    },
    {
     "data": {
      "text/plain": [
       "<matplotlib.image.AxesImage at 0x7f7d11498160>"
      ]
     },
     "execution_count": 233,
     "metadata": {},
     "output_type": "execute_result"
    },
    {
     "data": {
      "image/png": "[encoded data removed]",
      "text/plain": [
       "<Figure size 640x480 with 1 Axes>"
      ]
     },
     "metadata": {},
     "output_type": "display_data"
    }
   ],
   "source": [
    "bands = librosa.feature.melspectrogram(y=np.array(seg_wav), sr=44100, hop_length=32, win_length = 511, n_fft=1024, n_mels=60, dtype=np.float32)\n",
    "bands = librosa.core.power_to_db(bands)\n",
    "print(bands.shape)\n",
    "plt.imshow(bands, origin='lower')"
   ]
  },
  {
   "cell_type": "code",
   "execution_count": 221,
   "id": "aa613198-3e06-44e7-aff3-e3d8501138f1",
   "metadata": {},
   "outputs": [
    {
     "name": "stdout",
     "output_type": "stream",
     "text": [
      "torch.Size([60, 31])\n"
     ]
    },
    {
     "data": {
      "text/plain": [
       "<matplotlib.image.AxesImage at 0x7f7d63ea72e0>"
      ]
     },
     "execution_count": 221,
     "metadata": {},
     "output_type": "execute_result"
    },
    {
     "data": {
      "image/png": "[encoded data removed]",
      "text/plain": [
       "<Figure size 640x480 with 1 Axes>"
      ]
     },
     "metadata": {},
     "output_type": "display_data"
    }
   ],
   "source": [
    "mel = T.MelSpectrogram(sample_rate=44100, hop_length=441, win_length=882, n_fft = 2048, n_mels = 60)(seg_wav)\n",
    "mel = T.AmplitudeToDB(top_db=80)(mel)\n",
    "print(mel.shape)\n",
    "plt.imshow(mel, origin='lower')"
   ]
  },
  {
   "cell_type": "markdown",
   "id": "ea84ba7f-52e7-433f-9d99-36f42f4e5d5e",
   "metadata": {},
   "source": [
    "## 오디오 분할"
   ]
  },
  {
   "cell_type": "code",
   "execution_count": 22,
   "id": "6b320ff0-81cb-41a7-9b72-6936568d77c9",
   "metadata": {},
   "outputs": [],
   "source": [
    "params={\n",
    "    \"wav_len\" : 0.3,\n",
    "    \"wav_hop\" : 0.2,\n",
    "    \"sr\" : 44100,\n",
    "    \"n_fft\" : 2048,\n",
    "    \"mel_win\" : 882,\n",
    "    \"mel_hop\" : 441, #torchaudio default로써 hop_length=nfft//2\n",
    "    \"n_mels\" : 31,\n",
    "    \"top_db\" : 80 #torchaudio가 80이 합리적이라고 함. 근데 보니깐 이게 호흡음이고, 작은 소리였다보니 80은 불필요한 수준일수도\n",
    "}"
   ]
  },
  {
   "cell_type": "code",
   "execution_count": 5,
   "id": "9cd78c7a-7a7f-4499-9996-6dfee9d7bc32",
   "metadata": {},
   "outputs": [],
   "source": [
    "wheezing_wavs = glob.glob('data/mono_wheezing/*.wav')"
   ]
  },
  {
   "cell_type": "code",
   "execution_count": 23,
   "id": "333c9b68-2d7d-4588-b6dd-470f62ec826d",
   "metadata": {},
   "outputs": [],
   "source": [
    "save_folder = 'data/sep_wav/w2h1m31'\n",
    "try : \n",
    "    #os.mkdir(f'data/sep_wav')\n",
    "    os.mkdir(f'{save_folder}')\n",
    "    os.mkdir(f'{save_folder}/non_wheezing')\n",
    "    os.mkdir(f'{save_folder}/wheezing')\n",
    "except:\n",
    "    print('already exist')"
   ]
  },
  {
   "cell_type": "code",
   "execution_count": 24,
   "id": "ed0f82d8-c8db-4276-a5da-0a2afdecda7f",
   "metadata": {},
   "outputs": [
    {
     "name": "stdout",
     "output_type": "stream",
     "text": [
      "pass\n",
      "pass\n",
      "pass\n",
      "pass\n",
      "pass\n",
      "pass\n",
      "pass\n",
      "pass\n",
      "pass\n",
      "pass\n",
      "pass\n",
      "pass\n"
     ]
    }
   ],
   "source": [
    "#spectrogram과 레이블을 0.3초 단위로 다 자르기\n",
    "for num, data in enumerate(wheezing_wavs):\n",
    "    wav, sr = librosa.load(data)\n",
    "    wav = librosa.resample(wav, orig_sr=sr, target_sr=params['sr'])\n",
    "    mels = []\n",
    "    labels = []\n",
    "    \n",
    "    interval_nums = int(np.ceil(len(wav)/params['sr']/params['wav_hop']))\n",
    "    for i in range(interval_nums):\n",
    "        # make part of wav\n",
    "        start_time = i*int(params['sr']*params['wav_hop'])\n",
    "        end_time = i*int(params['sr']*params['wav_hop'])+int(params['sr']*params['wav_len'])    \n",
    "        new_wav = wav[start_time:end_time]\n",
    "\n",
    "        # zero-padding\n",
    "        if new_wav.shape[0] < params['sr']*params['wav_len']:\n",
    "            zeros = np.zeros(int(params['sr']*params['wav_len']) - len(new_wav))\n",
    "            new_wav = np.concatenate([new_wav, zeros])\n",
    "\n",
    "        # make melspectrogram\n",
    "        if sum(np.abs(new_wav))==0:\n",
    "            print('pass') # there is no information don't need this wav\n",
    "        else : \n",
    "            mel = librosa.feature.melspectrogram(y=np.array(new_wav), sr=params['sr'], hop_length=params['mel_hop'], win_length = params['mel_win'], n_fft=params['n_fft'], n_mels=params['n_mels'], dtype=np.float32)\n",
    "            mel = librosa.core.power_to_db(mel)\n",
    "        \n",
    "            label = construct_labels(data.replace('.wav','.ann'), win_start = i*params['wav_hop'], win_end = i*params['wav_hop'] + params['wav_len'], win_len = params['wav_len'])\n",
    "\n",
    "            #classification of wheezing\n",
    "            if sum(label[0])==0:\n",
    "                interval_name = data[:-4].replace('data/mono_wheezing',f'{save_folder}/non_wheezing')+f'_{i}'\n",
    "            else:\n",
    "                interval_name = data[:-4].replace('data/mono_wheezing',f'{save_folder}/wheezing')+f'_{i}'\n",
    "\n",
    "            #save\n",
    "            np.save(f'{interval_name}.npy', mel)\n",
    "            with open(f'{interval_name}.ann', 'w') as fp:\n",
    "                fp.write('\\n'.join('{},{},{}'.format(x[0], x[1], x[2]) for x in label))"
   ]
  },
  {
   "cell_type": "code",
   "execution_count": 8,
   "id": "f0459bf0-1dea-45de-9257-c3a7d2fd677f",
   "metadata": {},
   "outputs": [],
   "source": [
    "non_wheezing_wavs = glob.glob('data/mono_non_wheezing/*.wav')"
   ]
  },
  {
   "cell_type": "code",
   "execution_count": 25,
   "id": "423830e1-29b2-423b-a9c4-a79a46ce9339",
   "metadata": {},
   "outputs": [],
   "source": [
    "#spectrogram과 레이블을 0.3초 단위로 다 자르기\n",
    "for num, data in enumerate(non_wheezing_wavs):\n",
    "    wav, sr = librosa.load(data)\n",
    "    wav = librosa.resample(wav, orig_sr=sr, target_sr=params['sr'])\n",
    "    mels = []\n",
    "    labels = []\n",
    "    \n",
    "    interval_nums = int(np.ceil(len(wav)/params['sr']/params['wav_hop']))\n",
    "    for i in range(interval_nums):\n",
    "        # make part of wav\n",
    "        interval_name = data[:-4].replace('data/mono_non_wheezing',f'{save_folder}/non_wheezing')+f'_{i}'\n",
    "        start_time = i*int(params['sr']*params['wav_hop'])\n",
    "        end_time = i*int(params['sr']*params['wav_hop'])+int(params['sr']*params['wav_len'])    \n",
    "        new_wav = wav[start_time:end_time]\n",
    "\n",
    "        # zero-padding\n",
    "        if new_wav.shape[0] < params['sr']*params['wav_len']:\n",
    "            zeros = np.zeros(int(params['sr']*params['wav_len']) - len(new_wav))\n",
    "            new_wav = np.concatenate([new_wav, zeros])\n",
    "\n",
    "        # make mel\n",
    "        if sum(np.abs(new_wav))==0:\n",
    "            print('pass') # there is no information don't need this wav\n",
    "        else : \n",
    "            mel = librosa.feature.melspectrogram(y=np.array(new_wav), sr=params['sr'], hop_length=params['mel_hop'], win_length = params['mel_win'], n_fft=params['n_fft'], n_mels=params['n_mels'], dtype=np.float32)\n",
    "            mel = librosa.core.power_to_db(mel)\n",
    "            np.save(f'{interval_name}.npy', mel)\n",
    "\n",
    "            # save\n",
    "            label = construct_labels(data.replace('.wav','.ann'), win_start = i*params['wav_hop'], win_end = i*params['wav_hop']+params['wav_len'], win_len = params['wav_len'])\n",
    "            with open(f'{interval_name}.ann', 'w') as fp:\n",
    "                fp.write('\\n'.join('{},{},{}'.format(x[0], x[1], x[2]) for x in label))"
   ]
  },
  {
   "cell_type": "markdown",
   "id": "53f57bdc-dd97-4819-88a8-19a7569e0594",
   "metadata": {},
   "source": [
    "## dataset"
   ]
  },
  {
   "cell_type": "code",
   "execution_count": 8,
   "id": "4073c58e-679a-4bd7-8547-b212e2fda2e7",
   "metadata": {},
   "outputs": [],
   "source": [
    "# sample rate 22050, n_mels=64, n_fft=int(0.2625*args.length)\n",
    "# sr 16000, hop_length=160, win_length=400, n_fft=512, n_mels=64, f_min=125, f_max=7500"
   ]
  },
  {
   "cell_type": "code",
   "execution_count": null,
   "id": "b0a4f8a1-07e3-4db2-a9c1-4bb746477724",
   "metadata": {},
   "outputs": [],
   "source": [
    "wheezings = glob.glob('data/sep_wav/w2h1m6/wheezing/*.ann')\n",
    "non_wheezings = glob.glob('data/sep_wav/w2h1m6/non_wheezing/*.ann')"
   ]
  },
  {
   "cell_type": "code",
   "execution_count": null,
   "id": "54b14c71-d4f1-4597-a2c2-0afc1a6e7e16",
   "metadata": {
    "tags": []
   },
   "outputs": [],
   "source": [
    "class Breath_Dataset(torch.utils.data.Dataset):\n",
    "    def __init__(self, wheezing, non_wheezing, ratio=1):\n",
    "        self.wheezings = wheezing\n",
    "        self.non_wheezing = non_wheezing\n",
    "        self.ratio = ratio\n",
    "        self.data = random.shuffle(wheezing+non_wheezing)\n",
    "        \n",
    "    def __len__(self):\n",
    "        return len(self.data)\n",
    "\n",
    "    def downsampling(self, seed=None):\n",
    "        if seed != None:\n",
    "            random.seed(seed)\n",
    "        self.non_wheezing = random.shuffle(self.non_wheezing)\n",
    "        self.data = random.shuffle(wheezing+non_wheezing[:len(wheezing)*ratio])\n",
    "    \n",
    "    def __getitem__(self, index):\n",
    "        # process : load -> resampling -> padding -> mel_spectro_gram -> spec_augment\n",
    "        mel = np.load(self.data[index])\n",
    "        ann = read_annotation(self.data[index].replace('.npy','.ann'))[0]\n",
    "        \n",
    "        return mel, ann[2]"
   ]
  },
  {
   "cell_type": "code",
   "execution_count": null,
   "id": "c4fb9941-ce40-4698-9a08-49f0dc724af3",
   "metadata": {},
   "outputs": [],
   "source": [
    "DS = Breath_Dataset(wheezings, non_wheezings, ratio=1)"
   ]
  },
  {
   "cell_type": "code",
   "execution_count": null,
   "id": "72202974-ed24-4220-95b7-2407259f6dac",
   "metadata": {},
   "outputs": [],
   "source": [
    "train_dataset, val_dataset, _ = random_split(DS, [0.8, 0.2, 0.0])"
   ]
  },
  {
   "cell_type": "code",
   "execution_count": 7,
   "id": "65285ec4-d1b4-4428-a954-4f7d87d69559",
   "metadata": {},
   "outputs": [],
   "source": [
    "train_loader = DataLoader(train_dataset, batch_size = 32, num_workers = 0, shuffle = True)\n",
    "val_loader = DataLoader(val_dataset, batch_size = 32, num_workers = 0, shuffle = False)"
   ]
  },
  {
   "cell_type": "markdown",
   "id": "8c043ed5-ea88-4424-8d0b-7667b8a21eeb",
   "metadata": {
    "tags": []
   },
   "source": [
    "## datasplit"
   ]
  },
  {
   "cell_type": "markdown",
   "id": "11155255-e3d0-4c84-b4d0-eae7ec7c8782",
   "metadata": {},
   "source": [
    "# loss function and optimizer"
   ]
  },
  {
   "cell_type": "code",
   "execution_count": 8,
   "id": "34ca89a1-7d45-4434-989a-3160c689125f",
   "metadata": {},
   "outputs": [],
   "source": [
    "import torch.nn as nn"
   ]
  },
  {
   "cell_type": "code",
   "execution_count": 9,
   "id": "e692012a-0214-4551-9544-896beee7fd19",
   "metadata": {},
   "outputs": [],
   "source": [
    "loss_fn = nn.BCELoss()"
   ]
  },
  {
   "cell_type": "markdown",
   "id": "981a5553-8ca7-4ed3-82b5-ffb6505fcbce",
   "metadata": {},
   "source": [
    "# model"
   ]
  },
  {
   "cell_type": "code",
   "execution_count": 59,
   "id": "bb3e7dea-371a-4f7b-ab0e-dc991929d1a4",
   "metadata": {},
   "outputs": [],
   "source": [
    "class toymodel(nn.Module):\n",
    "    def __init__(self):\n",
    "        super(toymodel, self).__init__()\n",
    "        self.conv1 = nn.Conv2d(1, 16, kernel_size=3, stride=1, padding=0)\n",
    "        self.conv2 = nn.Conv2d(16, 32, kernel_size=3, stride=1, padding=0)\n",
    "        self.conv3 = nn.Conv2d(32, 64, kernel_size=3, stride=1, padding=0)\n",
    "        self.conv4 = nn.Conv2d(64, 128, kernel_size=3, stride=1, padding=0)\n",
    "        self.bn16 = nn.BatchNorm2d(16)\n",
    "        self.bn32 = nn.BatchNorm2d(32)\n",
    "        self.bn64 = nn.BatchNorm2d(64)\n",
    "        self.bn128 = nn.BatchNorm2d(128)\n",
    "        self.relu = nn.ReLU(inplace=True)\n",
    "        self.avgpool = nn.AdaptiveAvgPool2d(output_size=1)\n",
    "        self.ffn = nn.Linear(128,1)\n",
    "        self.sig = nn.Sigmoid()\n",
    "\n",
    "    def forward(self, x):\n",
    "        x = x.unsqueeze(dim=1)\n",
    "        x = self.conv1(x)\n",
    "        x = self.relu(x)\n",
    "        x = self.bn16(x)\n",
    "        x = self.conv2(x)\n",
    "        x = self.relu(x)\n",
    "        x = self.bn32(x)\n",
    "        x = self.conv3(x)\n",
    "        x = self.relu(x)\n",
    "        x = self.bn64(x)\n",
    "        x = self.conv4(x)\n",
    "        x = self.relu(x)\n",
    "        x = self.bn128(x)\n",
    "        x = self.avgpool(x)\n",
    "        x = x.view(x.size(0), -1)\n",
    "        x = self.ffn(x)\n",
    "        x = self.sig(x)\n",
    "\n",
    "        return x"
   ]
  },
  {
   "cell_type": "code",
   "execution_count": null,
   "id": "e31242c5-313c-498b-8ab7-481b43e82026",
   "metadata": {},
   "outputs": [],
   "source": [
    "class MobileNetV2(nn.Module):\n",
    "    def __init__(\n",
    "        self,\n",
    "        num_classes: int = 1000,\n",
    "        width_mult: float = 1.0,\n",
    "        inverted_residual_setting: Optional[List[List[int]]] = None,\n",
    "        round_nearest: int = 8,\n",
    "        block: Optional[Callable[..., nn.Module]] = None,\n",
    "        norm_layer: Optional[Callable[..., nn.Module]] = None,\n",
    "        dropout: float = 0.2,\n",
    "    ) -> None:\n",
    "        \"\"\"\n",
    "        MobileNet V2 main class\n",
    "\n",
    "        Args:\n",
    "            num_classes (int): Number of classes\n",
    "            width_mult (float): Width multiplier - adjusts number of channels in each layer by this amount\n",
    "            inverted_residual_setting: Network structure\n",
    "            round_nearest (int): Round the number of channels in each layer to be a multiple of this number\n",
    "            Set to 1 to turn off rounding\n",
    "            block: Module specifying inverted residual building block for mobilenet\n",
    "            norm_layer: Module specifying the normalization layer to use\n",
    "            dropout (float): The droupout probability\n",
    "\n",
    "        \"\"\"\n",
    "        super().__init__()\n",
    "\n",
    "        if norm_layer is None:\n",
    "            norm_layer = nn.BatchNorm2d\n",
    "\n",
    "        input_channel = 32\n",
    "        last_channel = 1024\n",
    "\n",
    "        if inverted_residual_setting is None:\n",
    "            inverted_residual_setting = [\n",
    "                # t, c, n, s\n",
    "                [1, 16, 1, 1],\n",
    "                [6, 24, 2, 2],\n",
    "                [6, 32, 3, 2],\n",
    "                [6, 64, 4, 2],\n",
    "                [6, 96, 3, 1],\n",
    "                [6, 160, 3, 2],\n",
    "                [6, 320, 1, 1],\n",
    "            ]\n",
    "\n",
    "        # only check the first element, assuming user knows t,c,n,s are required\n",
    "        if len(inverted_residual_setting) == 0 or len(inverted_residual_setting[0]) != 4:\n",
    "            raise ValueError(\n",
    "                f\"inverted_residual_setting should be non-empty or a 4-element list, got {inverted_residual_setting}\"\n",
    "            )\n",
    "\n",
    "        # building first layer\n",
    "        input_channel = _make_divisible(input_channel * width_mult, round_nearest)\n",
    "        self.last_channel = _make_divisible(last_channel * max(1.0, width_mult), round_nearest)\n",
    "        features: List[nn.Module] = [\n",
    "            Conv2dNormActivation(3, input_channel, stride=2, norm_layer=norm_layer, activation_layer=nn.ReLU6)\n",
    "        ]\n",
    "        # building inverted residual blocks\n",
    "        for t, c, n, s in inverted_residual_setting:\n",
    "            output_channel = _make_divisible(c * width_mult, round_nearest)\n",
    "            for i in range(n):\n",
    "                stride = s if i == 0 else 1\n",
    "                features.append(block(input_channel, output_channel, stride, expand_ratio=t, norm_layer=norm_layer))\n",
    "                input_channel = output_channel\n",
    "        # building last several layers\n",
    "        features.append(\n",
    "            Conv2dNormActivation(\n",
    "                input_channel, self.last_channel, kernel_size=1, norm_layer=norm_layer, activation_layer=nn.ReLU6\n",
    "            )\n",
    "        )\n",
    "        # make it nn.Sequential\n",
    "        self.features = nn.Sequential(*features)\n",
    "\n",
    "        # building classifier\n",
    "        self.classifier = nn.Sequential(\n",
    "            nn.Dropout(p=dropout),\n",
    "            nn.Linear(self.last_channel, num_classes),\n",
    "        )\n",
    "\n",
    "        # weight initialization\n",
    "        for m in self.modules():\n",
    "            if isinstance(m, nn.Conv2d):\n",
    "                nn.init.kaiming_normal_(m.weight, mode=\"fan_out\")\n",
    "                if m.bias is not None:\n",
    "                    nn.init.zeros_(m.bias)\n",
    "            elif isinstance(m, (nn.BatchNorm2d, nn.GroupNorm)):\n",
    "                nn.init.ones_(m.weight)\n",
    "                nn.init.zeros_(m.bias)\n",
    "            elif isinstance(m, nn.Linear):\n",
    "                nn.init.normal_(m.weight, 0, 0.01)\n",
    "                nn.init.zeros_(m.bias)\n",
    "\n",
    "    def _forward_impl(self, x: Tensor) -> Tensor:\n",
    "        # This exists since TorchScript doesn't support inheritance, so the superclass method\n",
    "        # (this one) needs to have a name other than `forward` that can be accessed in a subclass\n",
    "        x = self.features(x)\n",
    "        # Cannot use \"squeeze\" as batch-size can be 1\n",
    "        x = nn.functional.adaptive_avg_pool2d(x, (1, 1))\n",
    "        x = torch.flatten(x, 1)\n",
    "        x = self.classifier(x)\n",
    "        return x\n",
    "\n",
    "    def forward(self, x: Tensor) -> Tensor:\n",
    "        return self._forward_impl(x)\n",
    "\n",
    "\n",
    "_COMMON_META = {\n",
    "    \"num_params\": 3504872,\n",
    "    \"min_size\": (1, 1),\n",
    "    \"categories\": _IMAGENET_CATEGORIES,\n",
    "}"
   ]
  },
  {
   "cell_type": "code",
   "execution_count": 37,
   "id": "2d7b84b0-bb3a-46f0-a041-7a153cc602eb",
   "metadata": {},
   "outputs": [],
   "source": [
    "class DSBlock(nn.Module):\n",
    "    def __init__(self, in_c, out_c, stride):\n",
    "        super(DSBlock, self).__init__()\n",
    "        self.depth_conv = nn.Conv2d(in_c, in_c, kernel_size=3, stride=stride, padding='valid', groups=in_c, bias=False)\n",
    "        self.bn1 = nn.BatchNorm2d(in_c)\n",
    "        self.relu = nn.ReLU()\n",
    "        self.conv = nn.Conv2d(in_c, out_c, kernel_size=1, stride=1, padding='valid', bias=False)\n",
    "        self.bn2 = nn.BatchNorm2d(out_c)\n",
    "    def forward(self, x):\n",
    "        x = self.depth_conv(x)\n",
    "        x = self.bn1(x)\n",
    "        x = self.relu(x)\n",
    "        x = self.conv(x)\n",
    "        x = self.bn2(x)\n",
    "        x = self.relu(x)\n",
    "        return x"
   ]
  },
  {
   "cell_type": "code",
   "execution_count": 61,
   "id": "786118a0-53ef-46cf-b598-83867a8617a1",
   "metadata": {},
   "outputs": [],
   "source": [
    "LAYER_DEFS = [\n",
    "    (32, 64, 1),\n",
    "    (64, 128, 1),\n",
    "    (128, 128, 1),\n",
    "    (128, 256, 1),\n",
    "    (256, 256, 1),\n",
    "    #(256, 512, 2),\n",
    "    #(512, 512, 1),\n",
    "    #(512, 512, 1),\n",
    "    #(512, 512, 1),\n",
    "    #(512, 512, 1),\n",
    "    #(512, 512, 1),\n",
    "    #(512, 1024, 2),\n",
    "    #(1024, 1024, 1),\n",
    "    #(1024, 512, 1),\n",
    "    #(512, 256, 1),\n",
    "    (256, 128, 1)\n",
    "]"
   ]
  },
  {
   "cell_type": "code",
   "execution_count": 62,
   "id": "dce61c4b-0c04-4d2d-984e-12e61557f706",
   "metadata": {},
   "outputs": [],
   "source": [
    "class YOHO(nn.Module):\n",
    "    def __init__(self, layer_def):\n",
    "        super(YOHO, self).__init__()\n",
    "        self.conv = nn.Conv2d(1, 32, kernel_size=3, stride=2, padding='valid')\n",
    "        self.relu = nn.ReLU()\n",
    "        self.bn = nn.BatchNorm2d(32)\n",
    "        self.layer_def = layer_def\n",
    "        features: List[nn.Module] = []\n",
    "        for i in range(len(layer_def)):\n",
    "            features.append(DSBlock(layer_def[i][0], layer_def[i][1], layer_def[i][2]))\n",
    "        self.features = nn.Sequential(*features)\n",
    "        self.last = nn.Conv1d(256, 3, kernel_size=1)\n",
    "        self.activation = nn.Sigmoid()\n",
    "        \n",
    "    def forward(self, x):\n",
    "        x = x.unsqueeze(1)\n",
    "        x = self.conv(x)\n",
    "        x = self.relu(x)\n",
    "        x = self.bn(x)\n",
    "        x = self.features(x)\n",
    "        x = x.view(-1, -1, 256)\n",
    "        x = self.last(x)\n",
    "        output = self.activation(x)\n",
    "        return output"
   ]
  },
  {
   "cell_type": "code",
   "execution_count": 63,
   "id": "070679d3-e8ae-4d7c-8273-12dd8d1071c0",
   "metadata": {
    "scrolled": true
   },
   "outputs": [
    {
     "data": {
      "text/plain": [
       "YOHO(\n",
       "  (conv): Conv2d(1, 32, kernel_size=(3, 3), stride=(2, 2), padding=valid)\n",
       "  (relu): ReLU()\n",
       "  (bn): BatchNorm2d(32, eps=1e-05, momentum=0.1, affine=True, track_running_stats=True)\n",
       "  (features): Sequential(\n",
       "    (0): DSBlock(\n",
       "      (depth_conv): Conv2d(32, 32, kernel_size=(3, 3), stride=(1, 1), padding=valid, groups=32, bias=False)\n",
       "      (bn1): BatchNorm2d(32, eps=1e-05, momentum=0.1, affine=True, track_running_stats=True)\n",
       "      (relu): ReLU()\n",
       "      (conv): Conv2d(32, 64, kernel_size=(1, 1), stride=(1, 1), padding=valid, bias=False)\n",
       "      (bn2): BatchNorm2d(64, eps=1e-05, momentum=0.1, affine=True, track_running_stats=True)\n",
       "    )\n",
       "    (1): DSBlock(\n",
       "      (depth_conv): Conv2d(64, 64, kernel_size=(3, 3), stride=(1, 1), padding=valid, groups=64, bias=False)\n",
       "      (bn1): BatchNorm2d(64, eps=1e-05, momentum=0.1, affine=True, track_running_stats=True)\n",
       "      (relu): ReLU()\n",
       "      (conv): Conv2d(64, 128, kernel_size=(1, 1), stride=(1, 1), padding=valid, bias=False)\n",
       "      (bn2): BatchNorm2d(128, eps=1e-05, momentum=0.1, affine=True, track_running_stats=True)\n",
       "    )\n",
       "    (2): DSBlock(\n",
       "      (depth_conv): Conv2d(128, 128, kernel_size=(3, 3), stride=(1, 1), padding=valid, groups=128, bias=False)\n",
       "      (bn1): BatchNorm2d(128, eps=1e-05, momentum=0.1, affine=True, track_running_stats=True)\n",
       "      (relu): ReLU()\n",
       "      (conv): Conv2d(128, 128, kernel_size=(1, 1), stride=(1, 1), padding=valid, bias=False)\n",
       "      (bn2): BatchNorm2d(128, eps=1e-05, momentum=0.1, affine=True, track_running_stats=True)\n",
       "    )\n",
       "    (3): DSBlock(\n",
       "      (depth_conv): Conv2d(128, 128, kernel_size=(3, 3), stride=(1, 1), padding=valid, groups=128, bias=False)\n",
       "      (bn1): BatchNorm2d(128, eps=1e-05, momentum=0.1, affine=True, track_running_stats=True)\n",
       "      (relu): ReLU()\n",
       "      (conv): Conv2d(128, 256, kernel_size=(1, 1), stride=(1, 1), padding=valid, bias=False)\n",
       "      (bn2): BatchNorm2d(256, eps=1e-05, momentum=0.1, affine=True, track_running_stats=True)\n",
       "    )\n",
       "    (4): DSBlock(\n",
       "      (depth_conv): Conv2d(256, 256, kernel_size=(3, 3), stride=(1, 1), padding=valid, groups=256, bias=False)\n",
       "      (bn1): BatchNorm2d(256, eps=1e-05, momentum=0.1, affine=True, track_running_stats=True)\n",
       "      (relu): ReLU()\n",
       "      (conv): Conv2d(256, 256, kernel_size=(1, 1), stride=(1, 1), padding=valid, bias=False)\n",
       "      (bn2): BatchNorm2d(256, eps=1e-05, momentum=0.1, affine=True, track_running_stats=True)\n",
       "    )\n",
       "    (5): DSBlock(\n",
       "      (depth_conv): Conv2d(256, 256, kernel_size=(3, 3), stride=(1, 1), padding=valid, groups=256, bias=False)\n",
       "      (bn1): BatchNorm2d(256, eps=1e-05, momentum=0.1, affine=True, track_running_stats=True)\n",
       "      (relu): ReLU()\n",
       "      (conv): Conv2d(256, 128, kernel_size=(1, 1), stride=(1, 1), padding=valid, bias=False)\n",
       "      (bn2): BatchNorm2d(128, eps=1e-05, momentum=0.1, affine=True, track_running_stats=True)\n",
       "    )\n",
       "  )\n",
       "  (last): Conv1d(256, 3, kernel_size=(1,), stride=(1,))\n",
       "  (activation): Sigmoid()\n",
       ")"
      ]
     },
     "execution_count": 63,
     "metadata": {},
     "output_type": "execute_result"
    }
   ],
   "source": [
    "model = YOHO(LAYER_DEFS)\n",
    "device = torch.device(\"cuda\" if torch.cuda.is_available() else \"cpu\")\n",
    "model.to(device)"
   ]
  },
  {
   "cell_type": "code",
   "execution_count": 74,
   "id": "39d14520-1fdb-4214-9cb3-7341e66cd0d8",
   "metadata": {},
   "outputs": [
    {
     "data": {
      "text/plain": [
       "torch.Size([32, 60, 30])"
      ]
     },
     "execution_count": 74,
     "metadata": {},
     "output_type": "execute_result"
    }
   ],
   "source": [
    "for i, batch in enumerate(train_loader):\n",
    "    if i==0:break\n",
    "batch = batch[0].cuda()\n",
    "batch.shape"
   ]
  },
  {
   "cell_type": "code",
   "execution_count": 72,
   "id": "ed6e543e-d12b-4cb9-8b00-19b43de02e55",
   "metadata": {},
   "outputs": [
    {
     "ename": "RuntimeError",
     "evalue": "only one dimension can be inferred",
     "output_type": "error",
     "traceback": [
      "\u001b[0;31m---------------------------------------------------------------------------\u001b[0m",
      "\u001b[0;31mRuntimeError\u001b[0m                              Traceback (most recent call last)",
      "Cell \u001b[0;32mIn[72], line 1\u001b[0m\n\u001b[0;32m----> 1\u001b[0m \u001b[43mmodel\u001b[49m\u001b[43m(\u001b[49m\u001b[43mbatch\u001b[49m\u001b[43m)\u001b[49m\n",
      "File \u001b[0;32m/usr/local/lib/python3.8/dist-packages/torch/nn/modules/module.py:1130\u001b[0m, in \u001b[0;36mModule._call_impl\u001b[0;34m(self, *input, **kwargs)\u001b[0m\n\u001b[1;32m   1126\u001b[0m \u001b[38;5;66;03m# If we don't have any hooks, we want to skip the rest of the logic in\u001b[39;00m\n\u001b[1;32m   1127\u001b[0m \u001b[38;5;66;03m# this function, and just call forward.\u001b[39;00m\n\u001b[1;32m   1128\u001b[0m \u001b[38;5;28;01mif\u001b[39;00m \u001b[38;5;129;01mnot\u001b[39;00m (\u001b[38;5;28mself\u001b[39m\u001b[38;5;241m.\u001b[39m_backward_hooks \u001b[38;5;129;01mor\u001b[39;00m \u001b[38;5;28mself\u001b[39m\u001b[38;5;241m.\u001b[39m_forward_hooks \u001b[38;5;129;01mor\u001b[39;00m \u001b[38;5;28mself\u001b[39m\u001b[38;5;241m.\u001b[39m_forward_pre_hooks \u001b[38;5;129;01mor\u001b[39;00m _global_backward_hooks\n\u001b[1;32m   1129\u001b[0m         \u001b[38;5;129;01mor\u001b[39;00m _global_forward_hooks \u001b[38;5;129;01mor\u001b[39;00m _global_forward_pre_hooks):\n\u001b[0;32m-> 1130\u001b[0m     \u001b[38;5;28;01mreturn\u001b[39;00m \u001b[43mforward_call\u001b[49m\u001b[43m(\u001b[49m\u001b[38;5;241;43m*\u001b[39;49m\u001b[38;5;28;43minput\u001b[39;49m\u001b[43m,\u001b[49m\u001b[43m \u001b[49m\u001b[38;5;241;43m*\u001b[39;49m\u001b[38;5;241;43m*\u001b[39;49m\u001b[43mkwargs\u001b[49m\u001b[43m)\u001b[49m\n\u001b[1;32m   1131\u001b[0m \u001b[38;5;66;03m# Do not call functions when jit is used\u001b[39;00m\n\u001b[1;32m   1132\u001b[0m full_backward_hooks, non_full_backward_hooks \u001b[38;5;241m=\u001b[39m [], []\n",
      "Cell \u001b[0;32mIn[62], line 21\u001b[0m, in \u001b[0;36mYOHO.forward\u001b[0;34m(self, x)\u001b[0m\n\u001b[1;32m     19\u001b[0m x \u001b[38;5;241m=\u001b[39m \u001b[38;5;28mself\u001b[39m\u001b[38;5;241m.\u001b[39mbn(x)\n\u001b[1;32m     20\u001b[0m x \u001b[38;5;241m=\u001b[39m \u001b[38;5;28mself\u001b[39m\u001b[38;5;241m.\u001b[39mfeatures(x)\n\u001b[0;32m---> 21\u001b[0m x \u001b[38;5;241m=\u001b[39m \u001b[43mx\u001b[49m\u001b[38;5;241;43m.\u001b[39;49m\u001b[43mview\u001b[49m\u001b[43m(\u001b[49m\u001b[38;5;241;43m-\u001b[39;49m\u001b[38;5;241;43m1\u001b[39;49m\u001b[43m,\u001b[49m\u001b[43m \u001b[49m\u001b[38;5;241;43m-\u001b[39;49m\u001b[38;5;241;43m1\u001b[39;49m\u001b[43m,\u001b[49m\u001b[43m \u001b[49m\u001b[38;5;241;43m256\u001b[39;49m\u001b[43m)\u001b[49m\n\u001b[1;32m     22\u001b[0m x \u001b[38;5;241m=\u001b[39m \u001b[38;5;28mself\u001b[39m\u001b[38;5;241m.\u001b[39mlast(x)\n\u001b[1;32m     23\u001b[0m output \u001b[38;5;241m=\u001b[39m \u001b[38;5;28mself\u001b[39m\u001b[38;5;241m.\u001b[39mactivation(x)\n",
      "\u001b[0;31mRuntimeError\u001b[0m: only one dimension can be inferred"
     ]
    }
   ],
   "source": [
    "model(batch)"
   ]
  },
  {
   "cell_type": "code",
   "execution_count": 64,
   "id": "dd63d7f0-424f-4b0a-8fef-5b8ef24ef2d0",
   "metadata": {},
   "outputs": [
    {
     "data": {
      "text/plain": [
       "torch.Size([32, 32, 29, 14])"
      ]
     },
     "execution_count": 64,
     "metadata": {},
     "output_type": "execute_result"
    }
   ],
   "source": [
    "x=model.conv(batch.unsqueeze(1))\n",
    "x.shape"
   ]
  },
  {
   "cell_type": "code",
   "execution_count": 73,
   "id": "896e6b82-7f58-4020-8cd2-816cd6446d7d",
   "metadata": {},
   "outputs": [
    {
     "data": {
      "text/plain": [
       "torch.Size([32, 128, 17, 2])"
      ]
     },
     "execution_count": 73,
     "metadata": {},
     "output_type": "execute_result"
    }
   ],
   "source": [
    "x1=model.features(x)\n",
    "x1.shape"
   ]
  },
  {
   "cell_type": "code",
   "execution_count": 115,
   "id": "5232f458-2ebe-4009-83d5-5d4226bd3e81",
   "metadata": {},
   "outputs": [
    {
     "data": {
      "text/plain": [
       "torch.Size([32, 2176, 2])"
      ]
     },
     "execution_count": 115,
     "metadata": {},
     "output_type": "execute_result"
    }
   ],
   "source": [
    "x2 = x1.view(32, -1, 2)\n",
    "x2.shape"
   ]
  },
  {
   "cell_type": "code",
   "execution_count": 116,
   "id": "03b16b3f-4cd0-431a-8f15-62a07f5a1323",
   "metadata": {},
   "outputs": [
    {
     "data": {
      "text/plain": [
       "torch.Size([32, 3, 2])"
      ]
     },
     "execution_count": 116,
     "metadata": {},
     "output_type": "execute_result"
    }
   ],
   "source": [
    "out = nn.Conv1d(2176, 3, kernel_size=1).cuda()(x2)\n",
    "out.shape"
   ]
  },
  {
   "cell_type": "code",
   "execution_count": 117,
   "id": "3a0def2c-11a8-47fc-b00d-0ebcf11776c4",
   "metadata": {},
   "outputs": [
    {
     "data": {
      "text/plain": [
       "torch.Size([32, 3, 2])"
      ]
     },
     "execution_count": 117,
     "metadata": {},
     "output_type": "execute_result"
    }
   ],
   "source": [
    "output = nn.Sigmoid().cuda()(out)\n",
    "output.shape"
   ]
  },
  {
   "cell_type": "code",
   "execution_count": 118,
   "id": "a1bb0a9b-0b7f-4295-b108-19a144c950e3",
   "metadata": {},
   "outputs": [
    {
     "data": {
      "text/plain": [
       "tensor([[[0.5933, 0.5529],\n",
       "         [0.4039, 0.5955],\n",
       "         [0.5586, 0.6596]],\n",
       "\n",
       "        [[0.5033, 0.4792],\n",
       "         [0.4792, 0.5191],\n",
       "         [0.6065, 0.6582]],\n",
       "\n",
       "        [[0.4444, 0.4764],\n",
       "         [0.5526, 0.5304],\n",
       "         [0.5597, 0.5079]],\n",
       "\n",
       "        [[0.5301, 0.4614],\n",
       "         [0.5072, 0.4744],\n",
       "         [0.5357, 0.4816]],\n",
       "\n",
       "        [[0.4207, 0.5815],\n",
       "         [0.4081, 0.4473],\n",
       "         [0.5410, 0.6022]],\n",
       "\n",
       "        [[0.3436, 0.5761],\n",
       "         [0.4861, 0.5358],\n",
       "         [0.5052, 0.7414]],\n",
       "\n",
       "        [[0.3420, 0.4438],\n",
       "         [0.4590, 0.5760],\n",
       "         [0.3561, 0.6474]],\n",
       "\n",
       "        [[0.7832, 0.6845],\n",
       "         [0.6299, 0.6179],\n",
       "         [0.6644, 0.6292]],\n",
       "\n",
       "        [[0.4445, 0.5055],\n",
       "         [0.5332, 0.6430],\n",
       "         [0.6368, 0.5395]],\n",
       "\n",
       "        [[0.3694, 0.5984],\n",
       "         [0.4150, 0.4942],\n",
       "         [0.6198, 0.5887]],\n",
       "\n",
       "        [[0.4591, 0.4893],\n",
       "         [0.5636, 0.4845],\n",
       "         [0.5446, 0.6146]],\n",
       "\n",
       "        [[0.4372, 0.4983],\n",
       "         [0.3937, 0.5713],\n",
       "         [0.5700, 0.5525]],\n",
       "\n",
       "        [[0.4960, 0.4006],\n",
       "         [0.6253, 0.5481],\n",
       "         [0.5963, 0.7383]],\n",
       "\n",
       "        [[0.5455, 0.5387],\n",
       "         [0.5164, 0.5784],\n",
       "         [0.6592, 0.6795]],\n",
       "\n",
       "        [[0.7617, 0.7940],\n",
       "         [0.5055, 0.2124],\n",
       "         [0.4616, 0.2116]],\n",
       "\n",
       "        [[0.4778, 0.6578],\n",
       "         [0.6089, 0.4299],\n",
       "         [0.4646, 0.5298]],\n",
       "\n",
       "        [[0.5973, 0.5621],\n",
       "         [0.6583, 0.7186],\n",
       "         [0.5591, 0.4857]],\n",
       "\n",
       "        [[0.4316, 0.5685],\n",
       "         [0.5566, 0.5754],\n",
       "         [0.6927, 0.5129]],\n",
       "\n",
       "        [[0.5207, 0.4997],\n",
       "         [0.5122, 0.4969],\n",
       "         [0.5545, 0.5201]],\n",
       "\n",
       "        [[0.4368, 0.4397],\n",
       "         [0.5471, 0.5913],\n",
       "         [0.5458, 0.6634]],\n",
       "\n",
       "        [[0.5698, 0.4090],\n",
       "         [0.4750, 0.4255],\n",
       "         [0.6660, 0.6648]],\n",
       "\n",
       "        [[0.4979, 0.5497],\n",
       "         [0.5441, 0.5110],\n",
       "         [0.6497, 0.7038]],\n",
       "\n",
       "        [[0.6265, 0.5946],\n",
       "         [0.5093, 0.4671],\n",
       "         [0.6312, 0.5753]],\n",
       "\n",
       "        [[0.5923, 0.5421],\n",
       "         [0.5687, 0.6037],\n",
       "         [0.6501, 0.6029]],\n",
       "\n",
       "        [[0.5098, 0.5369],\n",
       "         [0.5586, 0.5259],\n",
       "         [0.6073, 0.6103]],\n",
       "\n",
       "        [[0.4876, 0.6274],\n",
       "         [0.5564, 0.7243],\n",
       "         [0.3372, 0.5097]],\n",
       "\n",
       "        [[0.5263, 0.5821],\n",
       "         [0.4857, 0.5587],\n",
       "         [0.4525, 0.5487]],\n",
       "\n",
       "        [[0.5650, 0.4891],\n",
       "         [0.6699, 0.3692],\n",
       "         [0.6240, 0.6931]],\n",
       "\n",
       "        [[0.5124, 0.4649],\n",
       "         [0.5863, 0.5799],\n",
       "         [0.6792, 0.6178]],\n",
       "\n",
       "        [[0.5597, 0.4235],\n",
       "         [0.6953, 0.5004],\n",
       "         [0.6378, 0.7601]],\n",
       "\n",
       "        [[0.5991, 0.5130],\n",
       "         [0.5169, 0.6127],\n",
       "         [0.6367, 0.5674]],\n",
       "\n",
       "        [[0.4728, 0.5554],\n",
       "         [0.4367, 0.5386],\n",
       "         [0.5703, 0.6987]]], device='cuda:0', grad_fn=<SigmoidBackward0>)"
      ]
     },
     "execution_count": 118,
     "metadata": {},
     "output_type": "execute_result"
    }
   ],
   "source": [
    "output"
   ]
  },
  {
   "cell_type": "code",
   "execution_count": 62,
   "id": "7fd8c1b2-c01c-4f07-8bb5-dad8b757c673",
   "metadata": {},
   "outputs": [],
   "source": [
    "optimizer = torch.optim.Adam(model.parameters(), lr=0.0001)"
   ]
  },
  {
   "cell_type": "code",
   "execution_count": 63,
   "id": "fefaa02a-7639-4b5e-bcae-b8eb9dc28099",
   "metadata": {},
   "outputs": [],
   "source": [
    "from sklearn.metrics import confusion_matrix"
   ]
  },
  {
   "cell_type": "code",
   "execution_count": 64,
   "id": "3f9b6b97-ce85-4f16-8e11-222da90e8900",
   "metadata": {},
   "outputs": [
    {
     "name": "stdout",
     "output_type": "stream",
     "text": [
      "epoch0 train_loss 38.7001, val_loss 9.0036, confusion_mat (60, 33, 68, 308)\n",
      "above is best cp\n",
      "epoch1 train_loss 37.2993, val_loss 8.9900, confusion_mat (59, 34, 75, 301)\n",
      "above is best cp\n",
      "epoch2 train_loss 35.8501, val_loss 8.6476, confusion_mat (56, 37, 69, 307)\n",
      "above is best cp\n",
      "epoch3 train_loss 34.3338, val_loss 10.2527, confusion_mat (65, 28, 163, 213)\n",
      "epoch4 train_loss 33.1499, val_loss 8.0592, confusion_mat (54, 39, 63, 313)\n",
      "above is best cp\n",
      "epoch5 train_loss 31.7960, val_loss 7.7793, confusion_mat (30, 63, 37, 339)\n",
      "above is best cp\n",
      "epoch6 train_loss 30.2871, val_loss 7.4804, confusion_mat (37, 56, 38, 338)\n",
      "above is best cp\n",
      "epoch7 train_loss 28.5562, val_loss 6.7335, confusion_mat (32, 61, 28, 348)\n",
      "above is best cp\n",
      "epoch8 train_loss 26.7849, val_loss 6.9976, confusion_mat (11, 82, 6, 370)\n",
      "epoch9 train_loss 25.7720, val_loss 6.7557, confusion_mat (24, 69, 15, 361)\n",
      "epoch10 train_loss 24.2025, val_loss 6.3354, confusion_mat (28, 65, 23, 353)\n",
      "above is best cp\n",
      "epoch11 train_loss 24.0816, val_loss 6.2498, confusion_mat (20, 73, 17, 359)\n",
      "above is best cp\n",
      "epoch12 train_loss 23.9130, val_loss 6.2971, confusion_mat (16, 77, 13, 363)\n",
      "epoch13 train_loss 24.2824, val_loss 6.3329, confusion_mat (14, 79, 6, 370)\n",
      "epoch14 train_loss 24.6289, val_loss 6.4880, confusion_mat (14, 79, 2, 374)\n",
      "epoch15 train_loss 24.9683, val_loss 6.8484, confusion_mat (13, 80, 2, 374)\n",
      "epoch16 train_loss 25.7143, val_loss 6.9681, confusion_mat (19, 74, 6, 370)\n",
      "epoch17 train_loss 26.5989, val_loss 6.8637, confusion_mat (18, 75, 5, 371)\n",
      "epoch18 train_loss 26.9183, val_loss 7.4825, confusion_mat (12, 81, 4, 372)\n",
      "epoch19 train_loss 26.5138, val_loss 7.7119, confusion_mat (19, 74, 6, 370)\n",
      "epoch20 train_loss 26.4493, val_loss 7.5189, confusion_mat (27, 66, 12, 364)\n",
      "epoch21 train_loss 26.8161, val_loss 7.4022, confusion_mat (25, 68, 7, 369)\n",
      "epoch22 train_loss 26.0533, val_loss 7.6119, confusion_mat (15, 78, 5, 371)\n",
      "epoch23 train_loss 25.2091, val_loss 7.1858, confusion_mat (21, 72, 10, 366)\n",
      "epoch24 train_loss 25.6307, val_loss 7.0997, confusion_mat (25, 68, 11, 365)\n",
      "epoch25 train_loss 24.2255, val_loss 6.4018, confusion_mat (34, 59, 15, 361)\n",
      "epoch26 train_loss 24.6373, val_loss 6.6994, confusion_mat (34, 59, 18, 358)\n",
      "epoch27 train_loss 23.2616, val_loss 7.4697, confusion_mat (21, 72, 12, 364)\n",
      "epoch28 train_loss 23.7575, val_loss 6.9214, confusion_mat (28, 65, 15, 361)\n",
      "epoch29 train_loss 23.2074, val_loss 6.5964, confusion_mat (28, 65, 13, 363)\n",
      "epoch30 train_loss 22.9529, val_loss 6.0476, confusion_mat (28, 65, 7, 369)\n",
      "above is best cp\n",
      "epoch31 train_loss 22.6328, val_loss 6.1777, confusion_mat (20, 73, 8, 368)\n",
      "epoch32 train_loss 22.6595, val_loss 6.2911, confusion_mat (18, 75, 4, 372)\n",
      "epoch33 train_loss 23.3321, val_loss 6.2390, confusion_mat (20, 73, 4, 372)\n",
      "epoch34 train_loss 23.5589, val_loss 6.1073, confusion_mat (33, 60, 12, 364)\n",
      "epoch35 train_loss 23.6195, val_loss 6.0632, confusion_mat (29, 64, 12, 364)\n",
      "epoch36 train_loss 23.8185, val_loss 6.1338, confusion_mat (31, 62, 17, 359)\n",
      "epoch37 train_loss 24.1617, val_loss 6.1261, confusion_mat (30, 63, 9, 367)\n",
      "epoch38 train_loss 23.9540, val_loss 6.0892, confusion_mat (30, 63, 12, 364)\n",
      "epoch39 train_loss 24.0457, val_loss 6.0690, confusion_mat (31, 62, 10, 366)\n",
      "epoch40 train_loss 23.6820, val_loss 6.0243, confusion_mat (22, 71, 6, 370)\n",
      "above is best cp\n",
      "epoch41 train_loss 23.4644, val_loss 5.9442, confusion_mat (25, 68, 6, 370)\n",
      "above is best cp\n",
      "epoch42 train_loss 23.1021, val_loss 5.8247, confusion_mat (25, 68, 6, 370)\n",
      "above is best cp\n",
      "epoch43 train_loss 22.8907, val_loss 5.7851, confusion_mat (19, 74, 5, 371)\n",
      "above is best cp\n",
      "epoch44 train_loss 22.6656, val_loss 5.7658, confusion_mat (19, 74, 4, 372)\n",
      "above is best cp\n",
      "epoch45 train_loss 22.9827, val_loss 5.8275, confusion_mat (15, 78, 3, 373)\n",
      "epoch46 train_loss 22.9936, val_loss 6.0681, confusion_mat (12, 81, 2, 374)\n",
      "epoch47 train_loss 23.2276, val_loss 6.0293, confusion_mat (12, 81, 2, 374)\n",
      "epoch48 train_loss 22.9476, val_loss 6.1794, confusion_mat (11, 82, 2, 374)\n",
      "epoch49 train_loss 23.2530, val_loss 6.2972, confusion_mat (13, 80, 2, 374)\n",
      "epoch50 train_loss 23.3600, val_loss 6.2596, confusion_mat (22, 71, 3, 373)\n",
      "epoch51 train_loss 23.5431, val_loss 6.6256, confusion_mat (22, 71, 2, 374)\n",
      "epoch52 train_loss 22.9670, val_loss 6.4150, confusion_mat (22, 71, 3, 373)\n",
      "epoch53 train_loss 23.1058, val_loss 6.4234, confusion_mat (17, 76, 3, 373)\n",
      "epoch54 train_loss 22.8820, val_loss 6.5049, confusion_mat (23, 70, 10, 366)\n",
      "epoch55 train_loss 23.1624, val_loss 6.1030, confusion_mat (33, 60, 16, 360)\n",
      "epoch56 train_loss 22.4620, val_loss 6.6542, confusion_mat (40, 53, 27, 349)\n",
      "epoch57 train_loss 22.8181, val_loss 6.5259, confusion_mat (34, 59, 17, 359)\n",
      "epoch58 train_loss 22.6910, val_loss 5.9910, confusion_mat (38, 55, 10, 366)\n",
      "epoch59 train_loss 22.2085, val_loss 5.9209, confusion_mat (46, 47, 19, 357)\n",
      "epoch60 train_loss 22.2005, val_loss 6.0150, confusion_mat (45, 48, 19, 357)\n",
      "epoch61 train_loss 22.7581, val_loss 6.3688, confusion_mat (54, 39, 28, 348)\n",
      "epoch62 train_loss 22.5415, val_loss 6.5328, confusion_mat (48, 45, 21, 355)\n",
      "epoch63 train_loss 22.4537, val_loss 5.9578, confusion_mat (43, 50, 15, 361)\n",
      "epoch64 train_loss 22.1734, val_loss 5.7454, confusion_mat (34, 59, 10, 366)\n",
      "above is best cp\n",
      "epoch65 train_loss 22.1402, val_loss 5.7031, confusion_mat (34, 59, 11, 365)\n",
      "above is best cp\n",
      "epoch66 train_loss 21.6626, val_loss 5.7041, confusion_mat (30, 63, 7, 369)\n",
      "epoch67 train_loss 21.8217, val_loss 5.8082, confusion_mat (25, 68, 6, 370)\n",
      "epoch68 train_loss 22.0652, val_loss 5.8293, confusion_mat (21, 72, 4, 372)\n",
      "epoch69 train_loss 22.1559, val_loss 5.7828, confusion_mat (24, 69, 4, 372)\n",
      "epoch70 train_loss 22.4419, val_loss 5.7640, confusion_mat (22, 71, 5, 371)\n",
      "epoch71 train_loss 22.0694, val_loss 5.7120, confusion_mat (26, 67, 5, 371)\n",
      "epoch72 train_loss 22.2309, val_loss 5.7925, confusion_mat (20, 73, 3, 373)\n",
      "epoch73 train_loss 21.9881, val_loss 5.7072, confusion_mat (31, 62, 7, 369)\n",
      "epoch74 train_loss 21.8642, val_loss 5.7728, confusion_mat (36, 57, 9, 367)\n",
      "epoch75 train_loss 21.9978, val_loss 5.9060, confusion_mat (35, 58, 7, 369)\n",
      "epoch76 train_loss 22.4508, val_loss 6.1478, confusion_mat (40, 53, 12, 364)\n",
      "epoch77 train_loss 22.4890, val_loss 6.2466, confusion_mat (39, 54, 9, 367)\n",
      "epoch78 train_loss 22.3712, val_loss 6.0381, confusion_mat (43, 50, 11, 365)\n",
      "epoch79 train_loss 22.1442, val_loss 5.8370, confusion_mat (40, 53, 11, 365)\n",
      "epoch80 train_loss 21.6833, val_loss 5.6796, confusion_mat (35, 58, 4, 372)\n",
      "above is best cp\n",
      "epoch81 train_loss 21.6550, val_loss 5.7003, confusion_mat (36, 57, 5, 371)\n",
      "epoch82 train_loss 21.8740, val_loss 5.7048, confusion_mat (37, 56, 7, 369)\n",
      "epoch83 train_loss 21.8545, val_loss 5.8189, confusion_mat (32, 61, 6, 370)\n",
      "epoch84 train_loss 21.8312, val_loss 5.9171, confusion_mat (30, 63, 6, 370)\n",
      "epoch85 train_loss 21.8616, val_loss 6.0165, confusion_mat (28, 65, 7, 369)\n",
      "epoch86 train_loss 21.8706, val_loss 6.0356, confusion_mat (27, 66, 5, 371)\n",
      "epoch87 train_loss 22.1449, val_loss 6.2224, confusion_mat (22, 71, 3, 373)\n",
      "epoch88 train_loss 21.9614, val_loss 5.9820, confusion_mat (33, 60, 6, 370)\n",
      "epoch89 train_loss 21.7915, val_loss 5.9416, confusion_mat (37, 56, 9, 367)\n",
      "epoch90 train_loss 21.6074, val_loss 5.7472, confusion_mat (43, 50, 16, 360)\n",
      "epoch91 train_loss 22.0580, val_loss 5.6727, confusion_mat (48, 45, 17, 359)\n",
      "above is best cp\n",
      "epoch92 train_loss 21.6206, val_loss 5.6321, confusion_mat (47, 46, 17, 359)\n",
      "above is best cp\n",
      "epoch93 train_loss 21.0766, val_loss 5.6180, confusion_mat (37, 56, 7, 369)\n",
      "above is best cp\n",
      "epoch94 train_loss 21.2485, val_loss 5.5321, confusion_mat (37, 56, 7, 369)\n",
      "above is best cp\n",
      "epoch95 train_loss 21.5689, val_loss 5.8143, confusion_mat (27, 66, 4, 372)\n",
      "epoch96 train_loss 21.4389, val_loss 5.6771, confusion_mat (29, 64, 5, 371)\n",
      "epoch97 train_loss 21.3260, val_loss 5.6650, confusion_mat (33, 60, 7, 369)\n",
      "epoch98 train_loss 21.1723, val_loss 5.6451, confusion_mat (38, 55, 12, 364)\n",
      "epoch99 train_loss 21.2139, val_loss 5.7560, confusion_mat (47, 46, 17, 359)\n"
     ]
    }
   ],
   "source": [
    "best_val_loss = 1e+10\n",
    "for epoch in range(100):\n",
    "    train_loss = 0\n",
    "    for i, batch in enumerate(train_loader):\n",
    "        model.train()\n",
    "        mel, label = batch[0].to(device), torch.tensor(np.array(batch[1], dtype=np.float32)).to(device)\n",
    "        output = model(mel)\n",
    "        output = output.squeeze(1)\n",
    "        loss = loss_fn(output, label)\n",
    "        loss.backward()\n",
    "        optimizer.step()\n",
    "        train_loss += loss\n",
    "    \n",
    "    val_loss = 0\n",
    "    preds = torch.tensor([])\n",
    "    labels = torch.tensor([])\n",
    "    for i, batch in enumerate(val_loader):\n",
    "        model.eval()\n",
    "        mel, label = batch[0].to(device), torch.tensor(np.array(batch[1], dtype=np.float32))\n",
    "        output = model(mel)\n",
    "        output = output.squeeze(1)\n",
    "        loss = loss_fn(output, label.cuda())\n",
    "        val_loss += loss\n",
    "        pred = output>0.5\n",
    "        preds = torch.cat([preds,pred.cpu()])\n",
    "        labels = torch.cat([labels,label.cpu()])\n",
    "    tn, fp, fn, tp = confusion_matrix(preds, labels).ravel()\n",
    "    print(f'epoch{epoch} train_loss {train_loss:.4f}, val_loss {val_loss:.4f}, confusion_mat {tp, fp, fn, tn}')\n",
    "    if val_loss < best_val_loss:\n",
    "        best_val_loss = val_loss\n",
    "        torch.save(model, 'best_model.pt')\n",
    "        print('above is best cp')"
   ]
  },
  {
   "cell_type": "code",
   "execution_count": 121,
   "id": "b6247f83-2940-483f-9ab3-b98bf8b6348f",
   "metadata": {},
   "outputs": [],
   "source": [
    "val_loss = 0\n",
    "preds = torch.tensor([])\n",
    "labels = torch.tensor([])\n",
    "for i, batch in enumerate(val_loader):\n",
    "    model.eval()\n",
    "    mel, label = batch[0].to(device), torch.tensor(np.array(batch[1], dtype=np.float32))\n",
    "    output = model(mel)\n",
    "    output = output.squeeze(1)\n",
    "    loss = loss_fn(output, label.cuda())\n",
    "    val_loss += loss\n",
    "    pred = output>0.5\n",
    "    preds = torch.cat([preds,pred.cpu()])\n",
    "    labels = torch.cat([labels,label.cpu()])"
   ]
  },
  {
   "cell_type": "code",
   "execution_count": 124,
   "id": "3f8cd09b-6ad8-40e7-bfd8-83b4ae026bbb",
   "metadata": {},
   "outputs": [],
   "source": [
    "tn, fp, fn, tp = confusion_matrix(preds, labels).ravel()"
   ]
  },
  {
   "cell_type": "code",
   "execution_count": 125,
   "id": "ae39faf7-532f-4c40-a0a7-e63b7aa87875",
   "metadata": {},
   "outputs": [
    {
     "name": "stdout",
     "output_type": "stream",
     "text": [
      "0 0 43 192\n"
     ]
    }
   ],
   "source": [
    "print(tp, fn, fp, tn)"
   ]
  },
  {
   "cell_type": "code",
   "execution_count": 119,
   "id": "bce2aa3f-7c09-4419-b7d1-2a3b9842a911",
   "metadata": {},
   "outputs": [
    {
     "data": {
      "text/plain": [
       "tensor([0., 0.])"
      ]
     },
     "execution_count": 119,
     "metadata": {},
     "output_type": "execute_result"
    }
   ],
   "source": []
  },
  {
   "cell_type": "code",
   "execution_count": 122,
   "id": "c4f42dd5-080f-43ee-8ada-f6f2d1936c7e",
   "metadata": {},
   "outputs": [
    {
     "data": {
      "text/plain": [
       "array([[192,  43],\n",
       "       [  0,   0]])"
      ]
     },
     "execution_count": 122,
     "metadata": {},
     "output_type": "execute_result"
    }
   ],
   "source": [
    "confusion_matrix(preds, labels)"
   ]
  },
  {
   "cell_type": "code",
   "execution_count": null,
   "id": "3b047445-7261-4ef8-9153-c967f50cc8c4",
   "metadata": {},
   "outputs": [],
   "source": []
  }
 ],
 "metadata": {
  "kernelspec": {
   "display_name": "Python 3 (ipykernel)",
   "language": "python",
   "name": "python3"
  },
  "language_info": {
   "codemirror_mode": {
    "name": "ipython",
    "version": 3
   },
   "file_extension": ".py",
   "mimetype": "text/x-python",
   "name": "python",
   "nbconvert_exporter": "python",
   "pygments_lexer": "ipython3",
   "version": "3.8.10"
  }
 },
 "nbformat": 4,
 "nbformat_minor": 5
}
